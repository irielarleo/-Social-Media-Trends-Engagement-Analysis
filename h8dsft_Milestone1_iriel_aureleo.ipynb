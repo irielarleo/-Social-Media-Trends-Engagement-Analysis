{
 "cells": [
  {
   "cell_type": "markdown",
   "metadata": {},
   "source": [
    "Link Dashboard Tableau : https://public.tableau.com/views/Milestones1_17423934921470/Dashboard1?:language=en-US&publish=yes&:sid=&:redirect=auth&:display_count=n&:origin=viz_share_link "
   ]
  },
  {
   "cell_type": "markdown",
   "metadata": {},
   "source": [
    "# **Perkenalan**\n",
    "\n",
    "Nama    : Iriel Aureleo\n",
    "\n",
    "NIM     : 202031209\n",
    "\n",
    "Analisis ini bertujuan untuk mengidentifikasi faktor yang paling berpengaruh terhadap engagement tren media sosial. Hasilnya diharapkan dapat membantu kreator konten dalam merancang strategi konten yang lebih efektif untuk meningkatkan keterlibatan audiens dan jangkauan secara optimal."
   ]
  },
  {
   "cell_type": "code",
   "execution_count": null,
   "metadata": {},
   "outputs": [],
   "source": [
    "# Mengimport library yang akan digunakan\n",
    "import pandas as pd\n",
    "import plotly.express as px \n",
    "from scipy.stats import f_oneway"
   ]
  },
  {
   "cell_type": "markdown",
   "metadata": {},
   "source": [
    "# **Identifikasi Masalah**"
   ]
  },
  {
   "cell_type": "markdown",
   "metadata": {},
   "source": [
    "## **Topik**"
   ]
  },
  {
   "cell_type": "markdown",
   "metadata": {},
   "source": [
    "Analisis Faktor yang Mempengaruhi Engagement Tren Media Sosial"
   ]
  },
  {
   "cell_type": "markdown",
   "metadata": {},
   "source": [
    "## **Latar Belakang**"
   ]
  },
  {
   "cell_type": "markdown",
   "metadata": {},
   "source": [
    "Media sosial menjadi platform utama bagi kreator, brand, dan individu untuk menjangkau audiens. Namun, tidak semua konten mendapatkan engagement tinggi. Analisis ini menganalisis faktor-faktor seperti platform, jenis konten, dan lokasi wilayah yang memengaruhi viralitas tren media sosial. Hasilnya dapat membantu kreator konten merancang strategi yang lebih efektif."
   ]
  },
  {
   "cell_type": "markdown",
   "metadata": {},
   "source": [
    "## **SMART**"
   ]
  },
  {
   "cell_type": "markdown",
   "metadata": {},
   "source": [
    "**Spesifik**    \n",
    "\n",
    "Meningkatkan engagement tren media sosial dengan memahami faktor - faktor yang paling berpengaruh.\n",
    "\n",
    "**Measurable**\n",
    "\n",
    "Meningkatkan engangement dengan target rata-rata sebesar 20%.\n",
    "\n",
    "**Achieveble**\n",
    "\n",
    " Data tersedia dan dapat dianalisis menggunakan teknik eksplorasi data dan analisis statistik untuk menemukan pola keterlibatan. Strategi peningkatan engagement dapat diterapkan dengan mengoptimalkan jenis konten, pemilihan platform, serta interaksi dengan audiens berdasarkan hasil analisis.\n",
    "\n",
    " **Relevant**\n",
    "\n",
    " Hasil analisis bermanfaat bagi konten kreator menyusun strategi yang lebih efektif dalam meningkatkan engagement. Peningkatan engagement dapat berdampak pada meningkatnya visibilitas konten, pertumbuhan audiens, serta peluang monetisasi yang lebih besar bagi kreator dan brand.\n",
    "\n",
    " **Time-Bound**\n",
    "\n",
    " Target peningkatan engagement sebesar 20% diharapkan dapat tercapai dalam 3 setelah strategi yang direkomendasikan diterapkan.\n"
   ]
  },
  {
   "cell_type": "markdown",
   "metadata": {},
   "source": [
    "## **Problem Statement**"
   ]
  },
  {
   "cell_type": "markdown",
   "metadata": {},
   "source": [
    "Engagement tren media sosial tidak merata di berbagai platform, jenis konten, dan lokasi, sehingga konten kreator memerlukan strategi yang lebih efektif. Untuk meningkatkan engagement, perlu dilakukan analisis eksplorasi data dan statistik guna menemukan pola keterlibatan yang berpengaruh. Target yang diharapkan adalah peningkatan engagement sebesar 20% dalam waktu 3 bulan setelah strategi yang direkomendasikan diterapkan. Hasil analisis ini akan membantu dalam mengoptimalkan jenis konten, pemilihan platform, serta interaksi dengan audiens untuk mencapai hasil yang lebih maksimal.\n"
   ]
  },
  {
   "cell_type": "markdown",
   "metadata": {},
   "source": [
    "## **Penjabaran Masalah**"
   ]
  },
  {
   "cell_type": "markdown",
   "metadata": {},
   "source": [
    "- Apa platform yang memiliki engagement tertinggi? (Visualisasi)\n",
    "- Di mana kategori hashtag dengan engagement tertinggi pada masing-masing platform? (Visualisasi)\n",
    "- Jenis konten seperti apa yang paling sering mendapatkan engagement tinggi di tiap platform? (Visualisasi)\n",
    "- Platform mana yang memiliki audiens dengan interaksi tertinggi? (Visualisasi)\n",
    "- Bagaimana variasi engagement di setiap platform? (Statistik Descriptive)\n",
    "- Apakah Ada Perbedaan Signifikan dalam Engagement Antar Platform? (Statistik Inferential)"
   ]
  },
  {
   "cell_type": "markdown",
   "metadata": {},
   "source": [
    "# **Data Loading**"
   ]
  },
  {
   "cell_type": "markdown",
   "metadata": {},
   "source": [
    "Sumber data : https://www.kaggle.com/datasets/atharvasoundankar/viral-social-media-trends-and-engagement-analysis"
   ]
  },
  {
   "cell_type": "code",
   "execution_count": 2,
   "metadata": {},
   "outputs": [
    {
     "data": {
      "text/html": [
       "<div>\n",
       "<style scoped>\n",
       "    .dataframe tbody tr th:only-of-type {\n",
       "        vertical-align: middle;\n",
       "    }\n",
       "\n",
       "    .dataframe tbody tr th {\n",
       "        vertical-align: top;\n",
       "    }\n",
       "\n",
       "    .dataframe thead th {\n",
       "        text-align: right;\n",
       "    }\n",
       "</style>\n",
       "<table border=\"1\" class=\"dataframe\">\n",
       "  <thead>\n",
       "    <tr style=\"text-align: right;\">\n",
       "      <th></th>\n",
       "      <th>Post_ID</th>\n",
       "      <th>Platform</th>\n",
       "      <th>Hashtag</th>\n",
       "      <th>Content_Type</th>\n",
       "      <th>Region</th>\n",
       "      <th>Views</th>\n",
       "      <th>Likes</th>\n",
       "      <th>Shares</th>\n",
       "      <th>Comments</th>\n",
       "      <th>Engagement_Level</th>\n",
       "    </tr>\n",
       "  </thead>\n",
       "  <tbody>\n",
       "    <tr>\n",
       "      <th>0</th>\n",
       "      <td>Post_1</td>\n",
       "      <td>TikTok</td>\n",
       "      <td>#Challenge</td>\n",
       "      <td>Video</td>\n",
       "      <td>UK</td>\n",
       "      <td>4163464</td>\n",
       "      <td>339431</td>\n",
       "      <td>53135</td>\n",
       "      <td>19346</td>\n",
       "      <td>High</td>\n",
       "    </tr>\n",
       "    <tr>\n",
       "      <th>1</th>\n",
       "      <td>Post_2</td>\n",
       "      <td>Instagram</td>\n",
       "      <td>#Education</td>\n",
       "      <td>Shorts</td>\n",
       "      <td>India</td>\n",
       "      <td>4155940</td>\n",
       "      <td>215240</td>\n",
       "      <td>65860</td>\n",
       "      <td>27239</td>\n",
       "      <td>Medium</td>\n",
       "    </tr>\n",
       "    <tr>\n",
       "      <th>2</th>\n",
       "      <td>Post_3</td>\n",
       "      <td>Twitter</td>\n",
       "      <td>#Challenge</td>\n",
       "      <td>Video</td>\n",
       "      <td>Brazil</td>\n",
       "      <td>3666211</td>\n",
       "      <td>327143</td>\n",
       "      <td>39423</td>\n",
       "      <td>36223</td>\n",
       "      <td>Medium</td>\n",
       "    </tr>\n",
       "    <tr>\n",
       "      <th>3</th>\n",
       "      <td>Post_4</td>\n",
       "      <td>YouTube</td>\n",
       "      <td>#Education</td>\n",
       "      <td>Shorts</td>\n",
       "      <td>Australia</td>\n",
       "      <td>917951</td>\n",
       "      <td>127125</td>\n",
       "      <td>11687</td>\n",
       "      <td>36806</td>\n",
       "      <td>Low</td>\n",
       "    </tr>\n",
       "    <tr>\n",
       "      <th>4</th>\n",
       "      <td>Post_5</td>\n",
       "      <td>TikTok</td>\n",
       "      <td>#Dance</td>\n",
       "      <td>Post</td>\n",
       "      <td>Brazil</td>\n",
       "      <td>64866</td>\n",
       "      <td>171361</td>\n",
       "      <td>69581</td>\n",
       "      <td>6376</td>\n",
       "      <td>Medium</td>\n",
       "    </tr>\n",
       "    <tr>\n",
       "      <th>...</th>\n",
       "      <td>...</td>\n",
       "      <td>...</td>\n",
       "      <td>...</td>\n",
       "      <td>...</td>\n",
       "      <td>...</td>\n",
       "      <td>...</td>\n",
       "      <td>...</td>\n",
       "      <td>...</td>\n",
       "      <td>...</td>\n",
       "      <td>...</td>\n",
       "    </tr>\n",
       "    <tr>\n",
       "      <th>4995</th>\n",
       "      <td>Post_4996</td>\n",
       "      <td>YouTube</td>\n",
       "      <td>#Education</td>\n",
       "      <td>Video</td>\n",
       "      <td>Japan</td>\n",
       "      <td>4258236</td>\n",
       "      <td>381509</td>\n",
       "      <td>59209</td>\n",
       "      <td>4674</td>\n",
       "      <td>High</td>\n",
       "    </tr>\n",
       "    <tr>\n",
       "      <th>4996</th>\n",
       "      <td>Post_4997</td>\n",
       "      <td>Instagram</td>\n",
       "      <td>#Education</td>\n",
       "      <td>Video</td>\n",
       "      <td>UK</td>\n",
       "      <td>4841525</td>\n",
       "      <td>166266</td>\n",
       "      <td>54841</td>\n",
       "      <td>4832</td>\n",
       "      <td>Medium</td>\n",
       "    </tr>\n",
       "    <tr>\n",
       "      <th>4997</th>\n",
       "      <td>Post_4998</td>\n",
       "      <td>YouTube</td>\n",
       "      <td>#Fashion</td>\n",
       "      <td>Shorts</td>\n",
       "      <td>USA</td>\n",
       "      <td>2004080</td>\n",
       "      <td>32401</td>\n",
       "      <td>75229</td>\n",
       "      <td>33875</td>\n",
       "      <td>Low</td>\n",
       "    </tr>\n",
       "    <tr>\n",
       "      <th>4998</th>\n",
       "      <td>Post_4999</td>\n",
       "      <td>Instagram</td>\n",
       "      <td>#Gaming</td>\n",
       "      <td>Shorts</td>\n",
       "      <td>Canada</td>\n",
       "      <td>2221665</td>\n",
       "      <td>46996</td>\n",
       "      <td>12954</td>\n",
       "      <td>42832</td>\n",
       "      <td>Low</td>\n",
       "    </tr>\n",
       "    <tr>\n",
       "      <th>4999</th>\n",
       "      <td>Post_5000</td>\n",
       "      <td>Instagram</td>\n",
       "      <td>#Fashion</td>\n",
       "      <td>Reel</td>\n",
       "      <td>Japan</td>\n",
       "      <td>2224007</td>\n",
       "      <td>72744</td>\n",
       "      <td>29945</td>\n",
       "      <td>46381</td>\n",
       "      <td>Low</td>\n",
       "    </tr>\n",
       "  </tbody>\n",
       "</table>\n",
       "<p>5000 rows × 10 columns</p>\n",
       "</div>"
      ],
      "text/plain": [
       "        Post_ID   Platform     Hashtag Content_Type     Region    Views  \\\n",
       "0        Post_1     TikTok  #Challenge        Video         UK  4163464   \n",
       "1        Post_2  Instagram  #Education       Shorts      India  4155940   \n",
       "2        Post_3    Twitter  #Challenge        Video     Brazil  3666211   \n",
       "3        Post_4    YouTube  #Education       Shorts  Australia   917951   \n",
       "4        Post_5     TikTok      #Dance         Post     Brazil    64866   \n",
       "...         ...        ...         ...          ...        ...      ...   \n",
       "4995  Post_4996    YouTube  #Education        Video      Japan  4258236   \n",
       "4996  Post_4997  Instagram  #Education        Video         UK  4841525   \n",
       "4997  Post_4998    YouTube    #Fashion       Shorts        USA  2004080   \n",
       "4998  Post_4999  Instagram     #Gaming       Shorts     Canada  2221665   \n",
       "4999  Post_5000  Instagram    #Fashion         Reel      Japan  2224007   \n",
       "\n",
       "       Likes  Shares  Comments Engagement_Level  \n",
       "0     339431   53135     19346             High  \n",
       "1     215240   65860     27239           Medium  \n",
       "2     327143   39423     36223           Medium  \n",
       "3     127125   11687     36806              Low  \n",
       "4     171361   69581      6376           Medium  \n",
       "...      ...     ...       ...              ...  \n",
       "4995  381509   59209      4674             High  \n",
       "4996  166266   54841      4832           Medium  \n",
       "4997   32401   75229     33875              Low  \n",
       "4998   46996   12954     42832              Low  \n",
       "4999   72744   29945     46381              Low  \n",
       "\n",
       "[5000 rows x 10 columns]"
      ]
     },
     "execution_count": 2,
     "metadata": {},
     "output_type": "execute_result"
    }
   ],
   "source": [
    "#Membaca file data csv \n",
    "df = pd.read_csv('Viral_Social_Media_Trends.csv')\n",
    "df"
   ]
  },
  {
   "cell_type": "markdown",
   "metadata": {},
   "source": [
    "Dataset berisi 5.000 data tentang tren viral di media sosial dengan 10 kolom berupa:\n",
    "\n",
    "- `Post_ID`         : ID unik untuk setiap postingan.\n",
    "\n",
    "- `Platform`        : Platform media sosial tempat tren muncul (TikTok, Instagram, Twitter, YouTube).\n",
    "- `Hashtag`         : Hashtag yang digunakan dalam tren.\n",
    "- `Content_Type`    : Jenis konten (Video, Shorts, Post, dll.).\n",
    "- `Region`          : Wilayah asal postingan.\n",
    "- `Views`           : Jumlah tampilan yang diperoleh.\n",
    "- `Likes`           : Jumlah suka yang diterima.\n",
    "- `Shares`          : Jumlah kali postingan dibagikan.\n",
    "- `Comments`        : Jumlah komentar yang diterima.\n",
    "- `Engagement_Level`: Kategori keterlibatan (High, Medium, Low)."
   ]
  },
  {
   "cell_type": "markdown",
   "metadata": {},
   "source": [
    "# **Data Cleaning**"
   ]
  },
  {
   "cell_type": "markdown",
   "metadata": {},
   "source": [
    "## Ringkasan Data"
   ]
  },
  {
   "cell_type": "code",
   "execution_count": 3,
   "metadata": {},
   "outputs": [
    {
     "name": "stdout",
     "output_type": "stream",
     "text": [
      "<class 'pandas.core.frame.DataFrame'>\n",
      "RangeIndex: 5000 entries, 0 to 4999\n",
      "Data columns (total 10 columns):\n",
      " #   Column            Non-Null Count  Dtype \n",
      "---  ------            --------------  ----- \n",
      " 0   Post_ID           5000 non-null   object\n",
      " 1   Platform          5000 non-null   object\n",
      " 2   Hashtag           5000 non-null   object\n",
      " 3   Content_Type      5000 non-null   object\n",
      " 4   Region            5000 non-null   object\n",
      " 5   Views             5000 non-null   int64 \n",
      " 6   Likes             5000 non-null   int64 \n",
      " 7   Shares            5000 non-null   int64 \n",
      " 8   Comments          5000 non-null   int64 \n",
      " 9   Engagement_Level  5000 non-null   object\n",
      "dtypes: int64(4), object(6)\n",
      "memory usage: 390.8+ KB\n"
     ]
    }
   ],
   "source": [
    "#Menampilkan ringkasan isi data\n",
    "df.info()"
   ]
  },
  {
   "cell_type": "markdown",
   "metadata": {},
   "source": [
    "Menampilkan informasi ringkasan data. Pada data seluruh tipe data pada masing-masing kolom telah sesuai sehingga tidak diperlukan lagi perubahan tipe data."
   ]
  },
  {
   "cell_type": "markdown",
   "metadata": {},
   "source": [
    "## Mengecek Duplikasi Data"
   ]
  },
  {
   "cell_type": "code",
   "execution_count": 4,
   "metadata": {},
   "outputs": [
    {
     "data": {
      "text/plain": [
       "0"
      ]
     },
     "execution_count": 4,
     "metadata": {},
     "output_type": "execute_result"
    }
   ],
   "source": [
    "# Mengecek jumlah data yang duplikat\n",
    "df.duplicated().sum()"
   ]
  },
  {
   "cell_type": "markdown",
   "metadata": {},
   "source": [
    "Tidak terdapat duplikat pada data."
   ]
  },
  {
   "cell_type": "markdown",
   "metadata": {},
   "source": [
    "## Mengecek Missing Value"
   ]
  },
  {
   "cell_type": "code",
   "execution_count": 5,
   "metadata": {},
   "outputs": [
    {
     "data": {
      "text/plain": [
       "Post_ID             0\n",
       "Platform            0\n",
       "Hashtag             0\n",
       "Content_Type        0\n",
       "Region              0\n",
       "Views               0\n",
       "Likes               0\n",
       "Shares              0\n",
       "Comments            0\n",
       "Engagement_Level    0\n",
       "dtype: int64"
      ]
     },
     "execution_count": 5,
     "metadata": {},
     "output_type": "execute_result"
    }
   ],
   "source": [
    "df.isnull().sum()"
   ]
  },
  {
   "cell_type": "markdown",
   "metadata": {},
   "source": [
    "Tidak terdapat missing value pada data."
   ]
  },
  {
   "cell_type": "markdown",
   "metadata": {},
   "source": [
    "## Mengecek Standarisasi Data"
   ]
  },
  {
   "cell_type": "code",
   "execution_count": 6,
   "metadata": {},
   "outputs": [
    {
     "data": {
      "text/plain": [
       "(array(['TikTok', 'Instagram', 'Twitter', 'YouTube'], dtype=object),\n",
       " array(['Video', 'Shorts', 'Post', 'Tweet', 'Live Stream', 'Reel'],\n",
       "       dtype=object),\n",
       " array(['UK', 'India', 'Brazil', 'Australia', 'Japan', 'Germany', 'Canada',\n",
       "        'USA'], dtype=object),\n",
       " array(['High', 'Medium', 'Low'], dtype=object))"
      ]
     },
     "execution_count": 6,
     "metadata": {},
     "output_type": "execute_result"
    }
   ],
   "source": [
    "# Mengecek unique values untuk Platform, Content_Type, Region, dan Engagement_Level\n",
    "platform_unique = df['Platform'].unique()\n",
    "content_type_unique = df['Content_Type'].unique()\n",
    "region_unique = df['Region'].unique()\n",
    "engagement_level_unique = df['Engagement_Level'].unique()\n",
    "\n",
    "platform_unique, content_type_unique, region_unique, engagement_level_unique"
   ]
  },
  {
   "cell_type": "markdown",
   "metadata": {},
   "source": [
    "Tidak ditemukan variasi yang tidak standar dalam kolom `Platform`, `Content_Type`, `Region`, dan `Engagement_Level`. "
   ]
  },
  {
   "cell_type": "markdown",
   "metadata": {},
   "source": [
    "# **Analisis dan Perhitungan**"
   ]
  },
  {
   "cell_type": "markdown",
   "metadata": {},
   "source": [
    "## Engagement rate pada setiap platform"
   ]
  },
  {
   "cell_type": "code",
   "execution_count": 7,
   "metadata": {},
   "outputs": [
    {
     "data": {
      "application/vnd.plotly.v1+json": {
       "config": {
        "plotlyServerURL": "https://plot.ly"
       },
       "data": [
        {
         "hovertemplate": "Platform=%{x}<br>Engagement Rate (%)=%{y}<extra></extra>",
         "legendgroup": "Instagram",
         "marker": {
          "color": "rgb(228,26,28)",
          "pattern": {
           "shape": ""
          }
         },
         "name": "Instagram",
         "orientation": "v",
         "showlegend": true,
         "textposition": "auto",
         "type": "bar",
         "x": [
          "Instagram"
         ],
         "xaxis": "x",
         "y": {
          "bdata": "hL+YnCuNUEA=",
          "dtype": "f8"
         },
         "yaxis": "y"
        },
        {
         "hovertemplate": "Platform=%{x}<br>Engagement Rate (%)=%{y}<extra></extra>",
         "legendgroup": "TikTok",
         "marker": {
          "color": "rgb(55,126,184)",
          "pattern": {
           "shape": ""
          }
         },
         "name": "TikTok",
         "orientation": "v",
         "showlegend": true,
         "textposition": "auto",
         "type": "bar",
         "x": [
          "TikTok"
         ],
         "xaxis": "x",
         "y": {
          "bdata": "fSrMp3/vT0A=",
          "dtype": "f8"
         },
         "yaxis": "y"
        },
        {
         "hovertemplate": "Platform=%{x}<br>Engagement Rate (%)=%{y}<extra></extra>",
         "legendgroup": "Twitter",
         "marker": {
          "color": "rgb(77,175,74)",
          "pattern": {
           "shape": ""
          }
         },
         "name": "Twitter",
         "orientation": "v",
         "showlegend": true,
         "textposition": "auto",
         "type": "bar",
         "x": [
          "Twitter"
         ],
         "xaxis": "x",
         "y": {
          "bdata": "doooknFFR0A=",
          "dtype": "f8"
         },
         "yaxis": "y"
        },
        {
         "hovertemplate": "Platform=%{x}<br>Engagement Rate (%)=%{y}<extra></extra>",
         "legendgroup": "YouTube",
         "marker": {
          "color": "rgb(152,78,163)",
          "pattern": {
           "shape": ""
          }
         },
         "name": "YouTube",
         "orientation": "v",
         "showlegend": true,
         "textposition": "auto",
         "type": "bar",
         "x": [
          "YouTube"
         ],
         "xaxis": "x",
         "y": {
          "bdata": "/+hvcYFRSUA=",
          "dtype": "f8"
         },
         "yaxis": "y"
        }
       ],
       "layout": {
        "barmode": "relative",
        "legend": {
         "title": {
          "text": "Platform"
         },
         "tracegroupgap": 0
        },
        "template": {
         "data": {
          "bar": [
           {
            "error_x": {
             "color": "#2a3f5f"
            },
            "error_y": {
             "color": "#2a3f5f"
            },
            "marker": {
             "line": {
              "color": "#E5ECF6",
              "width": 0.5
             },
             "pattern": {
              "fillmode": "overlay",
              "size": 10,
              "solidity": 0.2
             }
            },
            "type": "bar"
           }
          ],
          "barpolar": [
           {
            "marker": {
             "line": {
              "color": "#E5ECF6",
              "width": 0.5
             },
             "pattern": {
              "fillmode": "overlay",
              "size": 10,
              "solidity": 0.2
             }
            },
            "type": "barpolar"
           }
          ],
          "carpet": [
           {
            "aaxis": {
             "endlinecolor": "#2a3f5f",
             "gridcolor": "white",
             "linecolor": "white",
             "minorgridcolor": "white",
             "startlinecolor": "#2a3f5f"
            },
            "baxis": {
             "endlinecolor": "#2a3f5f",
             "gridcolor": "white",
             "linecolor": "white",
             "minorgridcolor": "white",
             "startlinecolor": "#2a3f5f"
            },
            "type": "carpet"
           }
          ],
          "choropleth": [
           {
            "colorbar": {
             "outlinewidth": 0,
             "ticks": ""
            },
            "type": "choropleth"
           }
          ],
          "contour": [
           {
            "colorbar": {
             "outlinewidth": 0,
             "ticks": ""
            },
            "colorscale": [
             [
              0,
              "#0d0887"
             ],
             [
              0.1111111111111111,
              "#46039f"
             ],
             [
              0.2222222222222222,
              "#7201a8"
             ],
             [
              0.3333333333333333,
              "#9c179e"
             ],
             [
              0.4444444444444444,
              "#bd3786"
             ],
             [
              0.5555555555555556,
              "#d8576b"
             ],
             [
              0.6666666666666666,
              "#ed7953"
             ],
             [
              0.7777777777777778,
              "#fb9f3a"
             ],
             [
              0.8888888888888888,
              "#fdca26"
             ],
             [
              1,
              "#f0f921"
             ]
            ],
            "type": "contour"
           }
          ],
          "contourcarpet": [
           {
            "colorbar": {
             "outlinewidth": 0,
             "ticks": ""
            },
            "type": "contourcarpet"
           }
          ],
          "heatmap": [
           {
            "colorbar": {
             "outlinewidth": 0,
             "ticks": ""
            },
            "colorscale": [
             [
              0,
              "#0d0887"
             ],
             [
              0.1111111111111111,
              "#46039f"
             ],
             [
              0.2222222222222222,
              "#7201a8"
             ],
             [
              0.3333333333333333,
              "#9c179e"
             ],
             [
              0.4444444444444444,
              "#bd3786"
             ],
             [
              0.5555555555555556,
              "#d8576b"
             ],
             [
              0.6666666666666666,
              "#ed7953"
             ],
             [
              0.7777777777777778,
              "#fb9f3a"
             ],
             [
              0.8888888888888888,
              "#fdca26"
             ],
             [
              1,
              "#f0f921"
             ]
            ],
            "type": "heatmap"
           }
          ],
          "histogram": [
           {
            "marker": {
             "pattern": {
              "fillmode": "overlay",
              "size": 10,
              "solidity": 0.2
             }
            },
            "type": "histogram"
           }
          ],
          "histogram2d": [
           {
            "colorbar": {
             "outlinewidth": 0,
             "ticks": ""
            },
            "colorscale": [
             [
              0,
              "#0d0887"
             ],
             [
              0.1111111111111111,
              "#46039f"
             ],
             [
              0.2222222222222222,
              "#7201a8"
             ],
             [
              0.3333333333333333,
              "#9c179e"
             ],
             [
              0.4444444444444444,
              "#bd3786"
             ],
             [
              0.5555555555555556,
              "#d8576b"
             ],
             [
              0.6666666666666666,
              "#ed7953"
             ],
             [
              0.7777777777777778,
              "#fb9f3a"
             ],
             [
              0.8888888888888888,
              "#fdca26"
             ],
             [
              1,
              "#f0f921"
             ]
            ],
            "type": "histogram2d"
           }
          ],
          "histogram2dcontour": [
           {
            "colorbar": {
             "outlinewidth": 0,
             "ticks": ""
            },
            "colorscale": [
             [
              0,
              "#0d0887"
             ],
             [
              0.1111111111111111,
              "#46039f"
             ],
             [
              0.2222222222222222,
              "#7201a8"
             ],
             [
              0.3333333333333333,
              "#9c179e"
             ],
             [
              0.4444444444444444,
              "#bd3786"
             ],
             [
              0.5555555555555556,
              "#d8576b"
             ],
             [
              0.6666666666666666,
              "#ed7953"
             ],
             [
              0.7777777777777778,
              "#fb9f3a"
             ],
             [
              0.8888888888888888,
              "#fdca26"
             ],
             [
              1,
              "#f0f921"
             ]
            ],
            "type": "histogram2dcontour"
           }
          ],
          "mesh3d": [
           {
            "colorbar": {
             "outlinewidth": 0,
             "ticks": ""
            },
            "type": "mesh3d"
           }
          ],
          "parcoords": [
           {
            "line": {
             "colorbar": {
              "outlinewidth": 0,
              "ticks": ""
             }
            },
            "type": "parcoords"
           }
          ],
          "pie": [
           {
            "automargin": true,
            "type": "pie"
           }
          ],
          "scatter": [
           {
            "fillpattern": {
             "fillmode": "overlay",
             "size": 10,
             "solidity": 0.2
            },
            "type": "scatter"
           }
          ],
          "scatter3d": [
           {
            "line": {
             "colorbar": {
              "outlinewidth": 0,
              "ticks": ""
             }
            },
            "marker": {
             "colorbar": {
              "outlinewidth": 0,
              "ticks": ""
             }
            },
            "type": "scatter3d"
           }
          ],
          "scattercarpet": [
           {
            "marker": {
             "colorbar": {
              "outlinewidth": 0,
              "ticks": ""
             }
            },
            "type": "scattercarpet"
           }
          ],
          "scattergeo": [
           {
            "marker": {
             "colorbar": {
              "outlinewidth": 0,
              "ticks": ""
             }
            },
            "type": "scattergeo"
           }
          ],
          "scattergl": [
           {
            "marker": {
             "colorbar": {
              "outlinewidth": 0,
              "ticks": ""
             }
            },
            "type": "scattergl"
           }
          ],
          "scattermap": [
           {
            "marker": {
             "colorbar": {
              "outlinewidth": 0,
              "ticks": ""
             }
            },
            "type": "scattermap"
           }
          ],
          "scattermapbox": [
           {
            "marker": {
             "colorbar": {
              "outlinewidth": 0,
              "ticks": ""
             }
            },
            "type": "scattermapbox"
           }
          ],
          "scatterpolar": [
           {
            "marker": {
             "colorbar": {
              "outlinewidth": 0,
              "ticks": ""
             }
            },
            "type": "scatterpolar"
           }
          ],
          "scatterpolargl": [
           {
            "marker": {
             "colorbar": {
              "outlinewidth": 0,
              "ticks": ""
             }
            },
            "type": "scatterpolargl"
           }
          ],
          "scatterternary": [
           {
            "marker": {
             "colorbar": {
              "outlinewidth": 0,
              "ticks": ""
             }
            },
            "type": "scatterternary"
           }
          ],
          "surface": [
           {
            "colorbar": {
             "outlinewidth": 0,
             "ticks": ""
            },
            "colorscale": [
             [
              0,
              "#0d0887"
             ],
             [
              0.1111111111111111,
              "#46039f"
             ],
             [
              0.2222222222222222,
              "#7201a8"
             ],
             [
              0.3333333333333333,
              "#9c179e"
             ],
             [
              0.4444444444444444,
              "#bd3786"
             ],
             [
              0.5555555555555556,
              "#d8576b"
             ],
             [
              0.6666666666666666,
              "#ed7953"
             ],
             [
              0.7777777777777778,
              "#fb9f3a"
             ],
             [
              0.8888888888888888,
              "#fdca26"
             ],
             [
              1,
              "#f0f921"
             ]
            ],
            "type": "surface"
           }
          ],
          "table": [
           {
            "cells": {
             "fill": {
              "color": "#EBF0F8"
             },
             "line": {
              "color": "white"
             }
            },
            "header": {
             "fill": {
              "color": "#C8D4E3"
             },
             "line": {
              "color": "white"
             }
            },
            "type": "table"
           }
          ]
         },
         "layout": {
          "annotationdefaults": {
           "arrowcolor": "#2a3f5f",
           "arrowhead": 0,
           "arrowwidth": 1
          },
          "autotypenumbers": "strict",
          "coloraxis": {
           "colorbar": {
            "outlinewidth": 0,
            "ticks": ""
           }
          },
          "colorscale": {
           "diverging": [
            [
             0,
             "#8e0152"
            ],
            [
             0.1,
             "#c51b7d"
            ],
            [
             0.2,
             "#de77ae"
            ],
            [
             0.3,
             "#f1b6da"
            ],
            [
             0.4,
             "#fde0ef"
            ],
            [
             0.5,
             "#f7f7f7"
            ],
            [
             0.6,
             "#e6f5d0"
            ],
            [
             0.7,
             "#b8e186"
            ],
            [
             0.8,
             "#7fbc41"
            ],
            [
             0.9,
             "#4d9221"
            ],
            [
             1,
             "#276419"
            ]
           ],
           "sequential": [
            [
             0,
             "#0d0887"
            ],
            [
             0.1111111111111111,
             "#46039f"
            ],
            [
             0.2222222222222222,
             "#7201a8"
            ],
            [
             0.3333333333333333,
             "#9c179e"
            ],
            [
             0.4444444444444444,
             "#bd3786"
            ],
            [
             0.5555555555555556,
             "#d8576b"
            ],
            [
             0.6666666666666666,
             "#ed7953"
            ],
            [
             0.7777777777777778,
             "#fb9f3a"
            ],
            [
             0.8888888888888888,
             "#fdca26"
            ],
            [
             1,
             "#f0f921"
            ]
           ],
           "sequentialminus": [
            [
             0,
             "#0d0887"
            ],
            [
             0.1111111111111111,
             "#46039f"
            ],
            [
             0.2222222222222222,
             "#7201a8"
            ],
            [
             0.3333333333333333,
             "#9c179e"
            ],
            [
             0.4444444444444444,
             "#bd3786"
            ],
            [
             0.5555555555555556,
             "#d8576b"
            ],
            [
             0.6666666666666666,
             "#ed7953"
            ],
            [
             0.7777777777777778,
             "#fb9f3a"
            ],
            [
             0.8888888888888888,
             "#fdca26"
            ],
            [
             1,
             "#f0f921"
            ]
           ]
          },
          "colorway": [
           "#636efa",
           "#EF553B",
           "#00cc96",
           "#ab63fa",
           "#FFA15A",
           "#19d3f3",
           "#FF6692",
           "#B6E880",
           "#FF97FF",
           "#FECB52"
          ],
          "font": {
           "color": "#2a3f5f"
          },
          "geo": {
           "bgcolor": "white",
           "lakecolor": "white",
           "landcolor": "#E5ECF6",
           "showlakes": true,
           "showland": true,
           "subunitcolor": "white"
          },
          "hoverlabel": {
           "align": "left"
          },
          "hovermode": "closest",
          "mapbox": {
           "style": "light"
          },
          "paper_bgcolor": "white",
          "plot_bgcolor": "#E5ECF6",
          "polar": {
           "angularaxis": {
            "gridcolor": "white",
            "linecolor": "white",
            "ticks": ""
           },
           "bgcolor": "#E5ECF6",
           "radialaxis": {
            "gridcolor": "white",
            "linecolor": "white",
            "ticks": ""
           }
          },
          "scene": {
           "xaxis": {
            "backgroundcolor": "#E5ECF6",
            "gridcolor": "white",
            "gridwidth": 2,
            "linecolor": "white",
            "showbackground": true,
            "ticks": "",
            "zerolinecolor": "white"
           },
           "yaxis": {
            "backgroundcolor": "#E5ECF6",
            "gridcolor": "white",
            "gridwidth": 2,
            "linecolor": "white",
            "showbackground": true,
            "ticks": "",
            "zerolinecolor": "white"
           },
           "zaxis": {
            "backgroundcolor": "#E5ECF6",
            "gridcolor": "white",
            "gridwidth": 2,
            "linecolor": "white",
            "showbackground": true,
            "ticks": "",
            "zerolinecolor": "white"
           }
          },
          "shapedefaults": {
           "line": {
            "color": "#2a3f5f"
           }
          },
          "ternary": {
           "aaxis": {
            "gridcolor": "white",
            "linecolor": "white",
            "ticks": ""
           },
           "baxis": {
            "gridcolor": "white",
            "linecolor": "white",
            "ticks": ""
           },
           "bgcolor": "#E5ECF6",
           "caxis": {
            "gridcolor": "white",
            "linecolor": "white",
            "ticks": ""
           }
          },
          "title": {
           "x": 0.05
          },
          "xaxis": {
           "automargin": true,
           "gridcolor": "white",
           "linecolor": "white",
           "ticks": "",
           "title": {
            "standoff": 15
           },
           "zerolinecolor": "white",
           "zerolinewidth": 2
          },
          "yaxis": {
           "automargin": true,
           "gridcolor": "white",
           "linecolor": "white",
           "ticks": "",
           "title": {
            "standoff": 15
           },
           "zerolinecolor": "white",
           "zerolinewidth": 2
          }
         }
        },
        "title": {
         "text": "Engagement Rate di Setiap Platform"
        },
        "xaxis": {
         "anchor": "y",
         "categoryarray": [
          "Instagram",
          "TikTok",
          "Twitter",
          "YouTube"
         ],
         "categoryorder": "array",
         "domain": [
          0,
          1
         ],
         "title": {
          "text": "Platform"
         }
        },
        "yaxis": {
         "anchor": "x",
         "domain": [
          0,
          1
         ],
         "title": {
          "text": "Engagement Rate (%)"
         }
        }
       }
      }
     },
     "metadata": {},
     "output_type": "display_data"
    }
   ],
   "source": [
    "# Tambahkan kolom Total_Engagement\n",
    "df[\"Total_Engagement\"] = df[\"Likes\"] + df[\"Shares\"] + df[\"Comments\"]\n",
    "\n",
    "# Tambahkan kolom Engagement_Rate\n",
    "df[\"Engagement_Rate\"] = (df[\"Total_Engagement\"] / df[\"Views\"]) * 100\n",
    "\n",
    "# Menghitung rata-rata engagement rate per platform\n",
    "engagement_rate_platform = df.groupby(\"Platform\")[\"Engagement_Rate\"].mean().reset_index()\n",
    "\n",
    "fig = px.bar(\n",
    "    engagement_rate_platform,\n",
    "    x=\"Platform\",\n",
    "    y=\"Engagement_Rate\",\n",
    "    title=\"Engagement Rate di Setiap Platform\",\n",
    "    labels={\"Engagement_Rate\": \"Engagement Rate (%)\"},\n",
    "    color=\"Platform\", \n",
    "    color_discrete_sequence=px.colors.qualitative.Set1  \n",
    ")\n",
    "\n",
    "fig.update_layout(xaxis_title=\"Platform\", yaxis_title=\"Engagement Rate (%)\")\n",
    "\n",
    "fig.show()"
   ]
  },
  {
   "cell_type": "markdown",
   "metadata": {},
   "source": [
    "Berdasarkan analisis data, platform dengan engagement rate tertinggi adalah **Instagram**, dengan rata-rata engagement rate sebesar **66.21%**. Hal ini menunjukkan bahwa pengguna Instagram cenderung lebih aktif dalam berinteraksi dengan konten dibandingkan platform lain.\n",
    "\n",
    "**Perbandingan Engagement Rate per Platform:**\n",
    "1. **Instagram**: 66.21%\n",
    "2. **TikTok**: 63.87%\n",
    "3. **YouTube**: 50.64%\n",
    "4. **Twitter**: 46.54%\n",
    "\n",
    "- **Instagram** memiliki engagement rate tertinggi, yang kemungkinan besar disebabkan oleh fitur interaktif seperti Reels, dan komentar yang mendorong partisipasi pengguna.\n",
    "- **TikTok** menyusul dengan engagement yang juga tinggi, berkat format video pendek yang menarik dan fitur \"For You Page\" yang meningkatkan eksposur.\n",
    "- **YouTube** dan **Twitter** memiliki engagement rate yang lebih rendah dibandingkan dua platform di atas, mungkin karena pola konsumsi konten yang lebih pasif di YouTube dan format teks yang dominan di Twitter."
   ]
  },
  {
   "cell_type": "markdown",
   "metadata": {},
   "source": [
    "Berdasarkan analisis data, **Instagram** memiliki engagement rate tertinggi (**66.21%**), diikuti oleh **TikTok** (**63.87%**), **YouTube** (**50.64%**), dan **Twitter** (**46.54%**). Platform berbasis visual dan video seperti Instagram dan TikTok cenderung lebih efektif dalam mendorong interaksi dibandingkan platform berbasis teks seperti Twitter. Oleh karena itu, strategi konten sebaiknya berfokus pada Instagram dan TikTok dengan memanfaatkan fitur interaktif seperti shorts video, Reels, dan live streaming untuk meningkatkan engagement."
   ]
  },
  {
   "cell_type": "markdown",
   "metadata": {},
   "source": [
    "## Kategori hashtag dengan engagement tertinggi pada masing-masing platform"
   ]
  },
  {
   "cell_type": "code",
   "execution_count": null,
   "metadata": {},
   "outputs": [
    {
     "data": {
      "application/vnd.plotly.v1+json": {
       "config": {
        "plotlyServerURL": "https://plot.ly"
       },
       "data": [
        {
         "customdata": [
          [
           "Instagram"
          ],
          [
           "Instagram"
          ],
          [
           "Instagram"
          ],
          [
           "Instagram"
          ],
          [
           "Instagram"
          ],
          [
           "Instagram"
          ],
          [
           "Instagram"
          ],
          [
           "Instagram"
          ],
          [
           "Instagram"
          ],
          [
           "Instagram"
          ]
         ],
         "hovertemplate": "Platform=%{customdata[0]}<br>Engagement Rate (%)=%{x}<br>Hashtag=%{y}<extra></extra>",
         "legendgroup": "Instagram",
         "marker": {
          "color": "#636efa",
          "pattern": {
           "shape": ""
          }
         },
         "name": "Instagram",
         "orientation": "h",
         "showlegend": true,
         "textposition": "auto",
         "type": "bar",
         "x": {
          "bdata": "Elgyx6JkYkBNDwpYEvdVQKUJ7wwPO1JAI/L7j8RLUUDXD5nZecNOQL2w2xgd701ATtWxzpbvTEAjibmM/iRDQHAGYKgD5UJAZaE20TZUPkA=",
          "dtype": "f8"
         },
         "xaxis": "x",
         "y": [
          "#Comedy",
          "#Fashion",
          "#Education",
          "#Viral",
          "#Fitness",
          "#Gaming",
          "#Dance",
          "#Challenge",
          "#Tech",
          "#Music"
         ],
         "yaxis": "y"
        },
        {
         "customdata": [
          [
           "TikTok"
          ],
          [
           "TikTok"
          ],
          [
           "TikTok"
          ],
          [
           "TikTok"
          ],
          [
           "TikTok"
          ],
          [
           "TikTok"
          ],
          [
           "TikTok"
          ],
          [
           "TikTok"
          ],
          [
           "TikTok"
          ],
          [
           "TikTok"
          ]
         ],
         "hovertemplate": "Platform=%{customdata[0]}<br>Engagement Rate (%)=%{x}<br>Hashtag=%{y}<extra></extra>",
         "legendgroup": "TikTok",
         "marker": {
          "color": "#EF553B",
          "pattern": {
           "shape": ""
          }
         },
         "name": "TikTok",
         "orientation": "h",
         "showlegend": true,
         "textposition": "auto",
         "type": "bar",
         "x": {
          "bdata": "ykfmnpetcEDfG47/ErVMQJ0lv4c5WUpAEHVldw1XSEAOSKAI8yRGQCVBvpyup0VAMGICtJduQ0BNX6tYFIBCQBOoLd5OCz9Axyzd7zZtPkA=",
          "dtype": "f8"
         },
         "xaxis": "x",
         "y": [
          "#Viral",
          "#Gaming",
          "#Comedy",
          "#Fitness",
          "#Dance",
          "#Fashion",
          "#Music",
          "#Tech",
          "#Challenge",
          "#Education"
         ],
         "yaxis": "y"
        },
        {
         "customdata": [
          [
           "Twitter"
          ],
          [
           "Twitter"
          ],
          [
           "Twitter"
          ],
          [
           "Twitter"
          ],
          [
           "Twitter"
          ],
          [
           "Twitter"
          ],
          [
           "Twitter"
          ],
          [
           "Twitter"
          ],
          [
           "Twitter"
          ],
          [
           "Twitter"
          ]
         ],
         "hovertemplate": "Platform=%{customdata[0]}<br>Engagement Rate (%)=%{x}<br>Hashtag=%{y}<extra></extra>",
         "legendgroup": "Twitter",
         "marker": {
          "color": "#00cc96",
          "pattern": {
           "shape": ""
          }
         },
         "name": "Twitter",
         "orientation": "h",
         "showlegend": true,
         "textposition": "auto",
         "type": "bar",
         "x": {
          "bdata": "ZmpNMbr6U0Cqxjh9sUlRQCdf1hFl4UxAUYsrvb+dR0C0yY/jkMRGQES8yZUzYEVAz7psdoywQUBuAj4ezU9AQCR8JvT4EjtArcvV740OO0A=",
          "dtype": "f8"
         },
         "xaxis": "x",
         "y": [
          "#Education",
          "#Gaming",
          "#Music",
          "#Tech",
          "#Viral",
          "#Comedy",
          "#Dance",
          "#Fitness",
          "#Challenge",
          "#Fashion"
         ],
         "yaxis": "y"
        },
        {
         "customdata": [
          [
           "YouTube"
          ],
          [
           "YouTube"
          ],
          [
           "YouTube"
          ],
          [
           "YouTube"
          ],
          [
           "YouTube"
          ],
          [
           "YouTube"
          ],
          [
           "YouTube"
          ],
          [
           "YouTube"
          ],
          [
           "YouTube"
          ],
          [
           "YouTube"
          ]
         ],
         "hovertemplate": "Platform=%{customdata[0]}<br>Engagement Rate (%)=%{x}<br>Hashtag=%{y}<extra></extra>",
         "legendgroup": "YouTube",
         "marker": {
          "color": "#ab63fa",
          "pattern": {
           "shape": ""
          }
         },
         "name": "YouTube",
         "orientation": "h",
         "showlegend": true,
         "textposition": "auto",
         "type": "bar",
         "x": {
          "bdata": "eT6wLVHYVUADdqJDkXxTQHXcQA7mBFJAProN+6LxTkC1SVXss/lHQDtifWZrEkRAH5rY16lTQEC+J1j1+5s9QN8I99aWcDlAWLSAfhl2OEA=",
          "dtype": "f8"
         },
         "xaxis": "x",
         "y": [
          "#Tech",
          "#Challenge",
          "#Fitness",
          "#Gaming",
          "#Dance",
          "#Fashion",
          "#Music",
          "#Comedy",
          "#Viral",
          "#Education"
         ],
         "yaxis": "y"
        }
       ],
       "layout": {
        "barmode": "relative",
        "height": 450,
        "legend": {
         "title": {
          "text": "Platform"
         },
         "tracegroupgap": 0
        },
        "template": {
         "data": {
          "bar": [
           {
            "error_x": {
             "color": "#2a3f5f"
            },
            "error_y": {
             "color": "#2a3f5f"
            },
            "marker": {
             "line": {
              "color": "#E5ECF6",
              "width": 0.5
             },
             "pattern": {
              "fillmode": "overlay",
              "size": 10,
              "solidity": 0.2
             }
            },
            "type": "bar"
           }
          ],
          "barpolar": [
           {
            "marker": {
             "line": {
              "color": "#E5ECF6",
              "width": 0.5
             },
             "pattern": {
              "fillmode": "overlay",
              "size": 10,
              "solidity": 0.2
             }
            },
            "type": "barpolar"
           }
          ],
          "carpet": [
           {
            "aaxis": {
             "endlinecolor": "#2a3f5f",
             "gridcolor": "white",
             "linecolor": "white",
             "minorgridcolor": "white",
             "startlinecolor": "#2a3f5f"
            },
            "baxis": {
             "endlinecolor": "#2a3f5f",
             "gridcolor": "white",
             "linecolor": "white",
             "minorgridcolor": "white",
             "startlinecolor": "#2a3f5f"
            },
            "type": "carpet"
           }
          ],
          "choropleth": [
           {
            "colorbar": {
             "outlinewidth": 0,
             "ticks": ""
            },
            "type": "choropleth"
           }
          ],
          "contour": [
           {
            "colorbar": {
             "outlinewidth": 0,
             "ticks": ""
            },
            "colorscale": [
             [
              0,
              "#0d0887"
             ],
             [
              0.1111111111111111,
              "#46039f"
             ],
             [
              0.2222222222222222,
              "#7201a8"
             ],
             [
              0.3333333333333333,
              "#9c179e"
             ],
             [
              0.4444444444444444,
              "#bd3786"
             ],
             [
              0.5555555555555556,
              "#d8576b"
             ],
             [
              0.6666666666666666,
              "#ed7953"
             ],
             [
              0.7777777777777778,
              "#fb9f3a"
             ],
             [
              0.8888888888888888,
              "#fdca26"
             ],
             [
              1,
              "#f0f921"
             ]
            ],
            "type": "contour"
           }
          ],
          "contourcarpet": [
           {
            "colorbar": {
             "outlinewidth": 0,
             "ticks": ""
            },
            "type": "contourcarpet"
           }
          ],
          "heatmap": [
           {
            "colorbar": {
             "outlinewidth": 0,
             "ticks": ""
            },
            "colorscale": [
             [
              0,
              "#0d0887"
             ],
             [
              0.1111111111111111,
              "#46039f"
             ],
             [
              0.2222222222222222,
              "#7201a8"
             ],
             [
              0.3333333333333333,
              "#9c179e"
             ],
             [
              0.4444444444444444,
              "#bd3786"
             ],
             [
              0.5555555555555556,
              "#d8576b"
             ],
             [
              0.6666666666666666,
              "#ed7953"
             ],
             [
              0.7777777777777778,
              "#fb9f3a"
             ],
             [
              0.8888888888888888,
              "#fdca26"
             ],
             [
              1,
              "#f0f921"
             ]
            ],
            "type": "heatmap"
           }
          ],
          "histogram": [
           {
            "marker": {
             "pattern": {
              "fillmode": "overlay",
              "size": 10,
              "solidity": 0.2
             }
            },
            "type": "histogram"
           }
          ],
          "histogram2d": [
           {
            "colorbar": {
             "outlinewidth": 0,
             "ticks": ""
            },
            "colorscale": [
             [
              0,
              "#0d0887"
             ],
             [
              0.1111111111111111,
              "#46039f"
             ],
             [
              0.2222222222222222,
              "#7201a8"
             ],
             [
              0.3333333333333333,
              "#9c179e"
             ],
             [
              0.4444444444444444,
              "#bd3786"
             ],
             [
              0.5555555555555556,
              "#d8576b"
             ],
             [
              0.6666666666666666,
              "#ed7953"
             ],
             [
              0.7777777777777778,
              "#fb9f3a"
             ],
             [
              0.8888888888888888,
              "#fdca26"
             ],
             [
              1,
              "#f0f921"
             ]
            ],
            "type": "histogram2d"
           }
          ],
          "histogram2dcontour": [
           {
            "colorbar": {
             "outlinewidth": 0,
             "ticks": ""
            },
            "colorscale": [
             [
              0,
              "#0d0887"
             ],
             [
              0.1111111111111111,
              "#46039f"
             ],
             [
              0.2222222222222222,
              "#7201a8"
             ],
             [
              0.3333333333333333,
              "#9c179e"
             ],
             [
              0.4444444444444444,
              "#bd3786"
             ],
             [
              0.5555555555555556,
              "#d8576b"
             ],
             [
              0.6666666666666666,
              "#ed7953"
             ],
             [
              0.7777777777777778,
              "#fb9f3a"
             ],
             [
              0.8888888888888888,
              "#fdca26"
             ],
             [
              1,
              "#f0f921"
             ]
            ],
            "type": "histogram2dcontour"
           }
          ],
          "mesh3d": [
           {
            "colorbar": {
             "outlinewidth": 0,
             "ticks": ""
            },
            "type": "mesh3d"
           }
          ],
          "parcoords": [
           {
            "line": {
             "colorbar": {
              "outlinewidth": 0,
              "ticks": ""
             }
            },
            "type": "parcoords"
           }
          ],
          "pie": [
           {
            "automargin": true,
            "type": "pie"
           }
          ],
          "scatter": [
           {
            "fillpattern": {
             "fillmode": "overlay",
             "size": 10,
             "solidity": 0.2
            },
            "type": "scatter"
           }
          ],
          "scatter3d": [
           {
            "line": {
             "colorbar": {
              "outlinewidth": 0,
              "ticks": ""
             }
            },
            "marker": {
             "colorbar": {
              "outlinewidth": 0,
              "ticks": ""
             }
            },
            "type": "scatter3d"
           }
          ],
          "scattercarpet": [
           {
            "marker": {
             "colorbar": {
              "outlinewidth": 0,
              "ticks": ""
             }
            },
            "type": "scattercarpet"
           }
          ],
          "scattergeo": [
           {
            "marker": {
             "colorbar": {
              "outlinewidth": 0,
              "ticks": ""
             }
            },
            "type": "scattergeo"
           }
          ],
          "scattergl": [
           {
            "marker": {
             "colorbar": {
              "outlinewidth": 0,
              "ticks": ""
             }
            },
            "type": "scattergl"
           }
          ],
          "scattermap": [
           {
            "marker": {
             "colorbar": {
              "outlinewidth": 0,
              "ticks": ""
             }
            },
            "type": "scattermap"
           }
          ],
          "scattermapbox": [
           {
            "marker": {
             "colorbar": {
              "outlinewidth": 0,
              "ticks": ""
             }
            },
            "type": "scattermapbox"
           }
          ],
          "scatterpolar": [
           {
            "marker": {
             "colorbar": {
              "outlinewidth": 0,
              "ticks": ""
             }
            },
            "type": "scatterpolar"
           }
          ],
          "scatterpolargl": [
           {
            "marker": {
             "colorbar": {
              "outlinewidth": 0,
              "ticks": ""
             }
            },
            "type": "scatterpolargl"
           }
          ],
          "scatterternary": [
           {
            "marker": {
             "colorbar": {
              "outlinewidth": 0,
              "ticks": ""
             }
            },
            "type": "scatterternary"
           }
          ],
          "surface": [
           {
            "colorbar": {
             "outlinewidth": 0,
             "ticks": ""
            },
            "colorscale": [
             [
              0,
              "#0d0887"
             ],
             [
              0.1111111111111111,
              "#46039f"
             ],
             [
              0.2222222222222222,
              "#7201a8"
             ],
             [
              0.3333333333333333,
              "#9c179e"
             ],
             [
              0.4444444444444444,
              "#bd3786"
             ],
             [
              0.5555555555555556,
              "#d8576b"
             ],
             [
              0.6666666666666666,
              "#ed7953"
             ],
             [
              0.7777777777777778,
              "#fb9f3a"
             ],
             [
              0.8888888888888888,
              "#fdca26"
             ],
             [
              1,
              "#f0f921"
             ]
            ],
            "type": "surface"
           }
          ],
          "table": [
           {
            "cells": {
             "fill": {
              "color": "#EBF0F8"
             },
             "line": {
              "color": "white"
             }
            },
            "header": {
             "fill": {
              "color": "#C8D4E3"
             },
             "line": {
              "color": "white"
             }
            },
            "type": "table"
           }
          ]
         },
         "layout": {
          "annotationdefaults": {
           "arrowcolor": "#2a3f5f",
           "arrowhead": 0,
           "arrowwidth": 1
          },
          "autotypenumbers": "strict",
          "coloraxis": {
           "colorbar": {
            "outlinewidth": 0,
            "ticks": ""
           }
          },
          "colorscale": {
           "diverging": [
            [
             0,
             "#8e0152"
            ],
            [
             0.1,
             "#c51b7d"
            ],
            [
             0.2,
             "#de77ae"
            ],
            [
             0.3,
             "#f1b6da"
            ],
            [
             0.4,
             "#fde0ef"
            ],
            [
             0.5,
             "#f7f7f7"
            ],
            [
             0.6,
             "#e6f5d0"
            ],
            [
             0.7,
             "#b8e186"
            ],
            [
             0.8,
             "#7fbc41"
            ],
            [
             0.9,
             "#4d9221"
            ],
            [
             1,
             "#276419"
            ]
           ],
           "sequential": [
            [
             0,
             "#0d0887"
            ],
            [
             0.1111111111111111,
             "#46039f"
            ],
            [
             0.2222222222222222,
             "#7201a8"
            ],
            [
             0.3333333333333333,
             "#9c179e"
            ],
            [
             0.4444444444444444,
             "#bd3786"
            ],
            [
             0.5555555555555556,
             "#d8576b"
            ],
            [
             0.6666666666666666,
             "#ed7953"
            ],
            [
             0.7777777777777778,
             "#fb9f3a"
            ],
            [
             0.8888888888888888,
             "#fdca26"
            ],
            [
             1,
             "#f0f921"
            ]
           ],
           "sequentialminus": [
            [
             0,
             "#0d0887"
            ],
            [
             0.1111111111111111,
             "#46039f"
            ],
            [
             0.2222222222222222,
             "#7201a8"
            ],
            [
             0.3333333333333333,
             "#9c179e"
            ],
            [
             0.4444444444444444,
             "#bd3786"
            ],
            [
             0.5555555555555556,
             "#d8576b"
            ],
            [
             0.6666666666666666,
             "#ed7953"
            ],
            [
             0.7777777777777778,
             "#fb9f3a"
            ],
            [
             0.8888888888888888,
             "#fdca26"
            ],
            [
             1,
             "#f0f921"
            ]
           ]
          },
          "colorway": [
           "#636efa",
           "#EF553B",
           "#00cc96",
           "#ab63fa",
           "#FFA15A",
           "#19d3f3",
           "#FF6692",
           "#B6E880",
           "#FF97FF",
           "#FECB52"
          ],
          "font": {
           "color": "#2a3f5f"
          },
          "geo": {
           "bgcolor": "white",
           "lakecolor": "white",
           "landcolor": "#E5ECF6",
           "showlakes": true,
           "showland": true,
           "subunitcolor": "white"
          },
          "hoverlabel": {
           "align": "left"
          },
          "hovermode": "closest",
          "mapbox": {
           "style": "light"
          },
          "paper_bgcolor": "white",
          "plot_bgcolor": "#E5ECF6",
          "polar": {
           "angularaxis": {
            "gridcolor": "white",
            "linecolor": "white",
            "ticks": ""
           },
           "bgcolor": "#E5ECF6",
           "radialaxis": {
            "gridcolor": "white",
            "linecolor": "white",
            "ticks": ""
           }
          },
          "scene": {
           "xaxis": {
            "backgroundcolor": "#E5ECF6",
            "gridcolor": "white",
            "gridwidth": 2,
            "linecolor": "white",
            "showbackground": true,
            "ticks": "",
            "zerolinecolor": "white"
           },
           "yaxis": {
            "backgroundcolor": "#E5ECF6",
            "gridcolor": "white",
            "gridwidth": 2,
            "linecolor": "white",
            "showbackground": true,
            "ticks": "",
            "zerolinecolor": "white"
           },
           "zaxis": {
            "backgroundcolor": "#E5ECF6",
            "gridcolor": "white",
            "gridwidth": 2,
            "linecolor": "white",
            "showbackground": true,
            "ticks": "",
            "zerolinecolor": "white"
           }
          },
          "shapedefaults": {
           "line": {
            "color": "#2a3f5f"
           }
          },
          "ternary": {
           "aaxis": {
            "gridcolor": "white",
            "linecolor": "white",
            "ticks": ""
           },
           "baxis": {
            "gridcolor": "white",
            "linecolor": "white",
            "ticks": ""
           },
           "bgcolor": "#E5ECF6",
           "caxis": {
            "gridcolor": "white",
            "linecolor": "white",
            "ticks": ""
           }
          },
          "title": {
           "x": 0.05
          },
          "xaxis": {
           "automargin": true,
           "gridcolor": "white",
           "linecolor": "white",
           "ticks": "",
           "title": {
            "standoff": 15
           },
           "zerolinecolor": "white",
           "zerolinewidth": 2
          },
          "yaxis": {
           "automargin": true,
           "gridcolor": "white",
           "linecolor": "white",
           "ticks": "",
           "title": {
            "standoff": 15
           },
           "zerolinecolor": "white",
           "zerolinewidth": 2
          }
         }
        },
        "title": {
         "text": "Hashtag dengan Engagement Rate Tertinggi di Masing-Masing Platform"
        },
        "xaxis": {
         "anchor": "y",
         "domain": [
          0,
          1
         ],
         "title": {
          "text": "Engagement Rate (%)"
         }
        },
        "yaxis": {
         "anchor": "x",
         "categoryorder": "total ascending",
         "domain": [
          0,
          1
         ],
         "title": {
          "text": "Hashtag"
         }
        }
       }
      }
     },
     "metadata": {},
     "output_type": "display_data"
    }
   ],
   "source": [
    "# Menghitung rata-rata engagement rate berdasarkan platform dan hashtag\n",
    "hashtag_platform_engagement = df.groupby([\"Platform\", \"Hashtag\"])['Engagement_Rate'].mean().reset_index()\n",
    "\n",
    "# Mengurutkan nilai engagement rate dari yang tertinggi\n",
    "hashtag_platform_engagement = hashtag_platform_engagement.sort_values(by=[\"Platform\", \"Engagement_Rate\"], ascending=[True, False])\n",
    "\n",
    "# Membuat visualisasi dengan Plotly\n",
    "fig = px.bar(\n",
    "    hashtag_platform_engagement,\n",
    "    x=\"Engagement_Rate\",\n",
    "    y=\"Hashtag\",\n",
    "    color=\"Platform\",\n",
    "    orientation=\"h\",\n",
    "    title=\"Hashtag dengan Engagement Rate Tertinggi di Masing-Masing Platform\",\n",
    "    labels={\"Engagement_Rate\": \"Engagement Rate (%)\", \"Hashtag\": \"Hashtag\"},\n",
    "    hover_data=[\"Platform\", \"Engagement_Rate\"],\n",
    ")\n",
    "\n",
    "fig.update_layout(\n",
    "    yaxis={'categoryorder': 'total ascending'},\n",
    "    xaxis_title=\"Engagement Rate (%)\",\n",
    "    yaxis_title=\"Hashtag\",\n",
    "    legend_title=\"Platform\",\n",
    "    height=450\n",
    ")\n",
    "\n",
    "fig.show()"
   ]
  },
  {
   "cell_type": "markdown",
   "metadata": {},
   "source": [
    "Kategori hashtag dengan engagement tertinggi bervariasi di setiap platform, tetapi **#Viral konsisten mendominasi di semua platform**, menunjukkan bahwa tren viral adalah faktor utama dalam meningkatkan interaksi. **#Comedy dan #Gaming memiliki engagement tinggi, terutama di TikTok dan YouTube**, yang dikenal sebagai platform hiburan berbasis video. Sementara itu, hashtag **#Tech dan #Education lebih menonjol di Twitter dan YouTube**, menandakan bahwa pengguna di kedua platform ini lebih tertarik pada konten informatif dan edukatif. **Instagram dan TikTok cenderung lebih kuat dalam kategori #Fashion, #Dance, dan #Challenge**, sejalan dengan sifat visual dan interaktif dari platform tersebut. **Gunakan hashtag yang paling relevan dengan platform dan audiens target** untuk meningkatkan engagement secara signifikan."
   ]
  },
  {
   "cell_type": "markdown",
   "metadata": {},
   "source": [
    "## Jenis konten yang paling sering mendapatkan engagement tinggi di tiap platform."
   ]
  },
  {
   "cell_type": "code",
   "execution_count": 9,
   "metadata": {},
   "outputs": [
    {
     "data": {
      "application/vnd.plotly.v1+json": {
       "config": {
        "plotlyServerURL": "https://plot.ly"
       },
       "data": [
        {
         "alignmentgroup": "True",
         "hovertemplate": "<b>%{hovertext}</b><br><br>Content_Type=Live Stream<br>Platform=%{x}<br>Engagement Rate (%)=%{y}<extra></extra>",
         "hovertext": [
          "Live Stream",
          "Live Stream",
          "Live Stream",
          "Live Stream"
         ],
         "legendgroup": "Live Stream",
         "marker": {
          "color": "#636efa",
          "pattern": {
           "shape": ""
          }
         },
         "name": "Live Stream",
         "offsetgroup": "Live Stream",
         "orientation": "v",
         "showlegend": true,
         "textposition": "auto",
         "type": "bar",
         "x": [
          "Instagram",
          "TikTok",
          "Twitter",
          "YouTube"
         ],
         "xaxis": "x",
         "y": {
          "bdata": "ncAoqpRVV0AZENtq7vM+QPOWbzhvX0BAw2m3jhm1VUA=",
          "dtype": "f8"
         },
         "yaxis": "y"
        },
        {
         "alignmentgroup": "True",
         "hovertemplate": "<b>%{hovertext}</b><br><br>Content_Type=Post<br>Platform=%{x}<br>Engagement Rate (%)=%{y}<extra></extra>",
         "hovertext": [
          "Post",
          "Post",
          "Post",
          "Post"
         ],
         "legendgroup": "Post",
         "marker": {
          "color": "#EF553B",
          "pattern": {
           "shape": ""
          }
         },
         "name": "Post",
         "offsetgroup": "Post",
         "orientation": "v",
         "showlegend": true,
         "textposition": "auto",
         "type": "bar",
         "x": [
          "Instagram",
          "TikTok",
          "Twitter",
          "YouTube"
         ],
         "xaxis": "x",
         "y": {
          "bdata": "76UwcmrRSkB6NOmP7NRDQCaVYaqr/UVAbaakCpJlTkA=",
          "dtype": "f8"
         },
         "yaxis": "y"
        },
        {
         "alignmentgroup": "True",
         "hovertemplate": "<b>%{hovertext}</b><br><br>Content_Type=Reel<br>Platform=%{x}<br>Engagement Rate (%)=%{y}<extra></extra>",
         "hovertext": [
          "Reel",
          "Reel",
          "Reel",
          "Reel"
         ],
         "legendgroup": "Reel",
         "marker": {
          "color": "#00cc96",
          "pattern": {
           "shape": ""
          }
         },
         "name": "Reel",
         "offsetgroup": "Reel",
         "orientation": "v",
         "showlegend": true,
         "textposition": "auto",
         "type": "bar",
         "x": [
          "Instagram",
          "TikTok",
          "Twitter",
          "YouTube"
         ],
         "xaxis": "x",
         "y": {
          "bdata": "nd64X4H3UEC/qxKrb0dAQBTVBk+98kZA+BtDcXsdSEA=",
          "dtype": "f8"
         },
         "yaxis": "y"
        },
        {
         "alignmentgroup": "True",
         "hovertemplate": "<b>%{hovertext}</b><br><br>Content_Type=Shorts<br>Platform=%{x}<br>Engagement Rate (%)=%{y}<extra></extra>",
         "hovertext": [
          "Shorts",
          "Shorts",
          "Shorts",
          "Shorts"
         ],
         "legendgroup": "Shorts",
         "marker": {
          "color": "#ab63fa",
          "pattern": {
           "shape": ""
          }
         },
         "name": "Shorts",
         "offsetgroup": "Shorts",
         "orientation": "v",
         "showlegend": true,
         "textposition": "auto",
         "type": "bar",
         "x": [
          "Instagram",
          "TikTok",
          "Twitter",
          "YouTube"
         ],
         "xaxis": "x",
         "y": {
          "bdata": "MJxvjuFAUUC+vC7AHB1lQNN9lt4aFUtA5pdsvK6+OkA=",
          "dtype": "f8"
         },
         "yaxis": "y"
        },
        {
         "alignmentgroup": "True",
         "hovertemplate": "<b>%{hovertext}</b><br><br>Content_Type=Tweet<br>Platform=%{x}<br>Engagement Rate (%)=%{y}<extra></extra>",
         "hovertext": [
          "Tweet",
          "Tweet",
          "Tweet",
          "Tweet"
         ],
         "legendgroup": "Tweet",
         "marker": {
          "color": "#FFA15A",
          "pattern": {
           "shape": ""
          }
         },
         "name": "Tweet",
         "offsetgroup": "Tweet",
         "orientation": "v",
         "showlegend": true,
         "textposition": "auto",
         "type": "bar",
         "x": [
          "Instagram",
          "TikTok",
          "Twitter",
          "YouTube"
         ],
         "xaxis": "x",
         "y": {
          "bdata": "dt9AbXfbVEAif6VpJlpGQCErPmR0XUdA8KhsBcrPQkA=",
          "dtype": "f8"
         },
         "yaxis": "y"
        },
        {
         "alignmentgroup": "True",
         "hovertemplate": "<b>%{hovertext}</b><br><br>Content_Type=Video<br>Platform=%{x}<br>Engagement Rate (%)=%{y}<extra></extra>",
         "hovertext": [
          "Video",
          "Video",
          "Video",
          "Video"
         ],
         "legendgroup": "Video",
         "marker": {
          "color": "#19d3f3",
          "pattern": {
           "shape": ""
          }
         },
         "name": "Video",
         "offsetgroup": "Video",
         "orientation": "v",
         "showlegend": true,
         "textposition": "auto",
         "type": "bar",
         "x": [
          "Instagram",
          "TikTok",
          "Twitter",
          "YouTube"
         ],
         "xaxis": "x",
         "y": {
          "bdata": "/grilu36PkBhvMNLb7VQQKhTJ5R26UxAnAfST8vcQ0A=",
          "dtype": "f8"
         },
         "yaxis": "y"
        }
       ],
       "layout": {
        "barmode": "group",
        "legend": {
         "title": {
          "text": "Content_Type"
         },
         "tracegroupgap": 0
        },
        "template": {
         "data": {
          "bar": [
           {
            "error_x": {
             "color": "#2a3f5f"
            },
            "error_y": {
             "color": "#2a3f5f"
            },
            "marker": {
             "line": {
              "color": "#E5ECF6",
              "width": 0.5
             },
             "pattern": {
              "fillmode": "overlay",
              "size": 10,
              "solidity": 0.2
             }
            },
            "type": "bar"
           }
          ],
          "barpolar": [
           {
            "marker": {
             "line": {
              "color": "#E5ECF6",
              "width": 0.5
             },
             "pattern": {
              "fillmode": "overlay",
              "size": 10,
              "solidity": 0.2
             }
            },
            "type": "barpolar"
           }
          ],
          "carpet": [
           {
            "aaxis": {
             "endlinecolor": "#2a3f5f",
             "gridcolor": "white",
             "linecolor": "white",
             "minorgridcolor": "white",
             "startlinecolor": "#2a3f5f"
            },
            "baxis": {
             "endlinecolor": "#2a3f5f",
             "gridcolor": "white",
             "linecolor": "white",
             "minorgridcolor": "white",
             "startlinecolor": "#2a3f5f"
            },
            "type": "carpet"
           }
          ],
          "choropleth": [
           {
            "colorbar": {
             "outlinewidth": 0,
             "ticks": ""
            },
            "type": "choropleth"
           }
          ],
          "contour": [
           {
            "colorbar": {
             "outlinewidth": 0,
             "ticks": ""
            },
            "colorscale": [
             [
              0,
              "#0d0887"
             ],
             [
              0.1111111111111111,
              "#46039f"
             ],
             [
              0.2222222222222222,
              "#7201a8"
             ],
             [
              0.3333333333333333,
              "#9c179e"
             ],
             [
              0.4444444444444444,
              "#bd3786"
             ],
             [
              0.5555555555555556,
              "#d8576b"
             ],
             [
              0.6666666666666666,
              "#ed7953"
             ],
             [
              0.7777777777777778,
              "#fb9f3a"
             ],
             [
              0.8888888888888888,
              "#fdca26"
             ],
             [
              1,
              "#f0f921"
             ]
            ],
            "type": "contour"
           }
          ],
          "contourcarpet": [
           {
            "colorbar": {
             "outlinewidth": 0,
             "ticks": ""
            },
            "type": "contourcarpet"
           }
          ],
          "heatmap": [
           {
            "colorbar": {
             "outlinewidth": 0,
             "ticks": ""
            },
            "colorscale": [
             [
              0,
              "#0d0887"
             ],
             [
              0.1111111111111111,
              "#46039f"
             ],
             [
              0.2222222222222222,
              "#7201a8"
             ],
             [
              0.3333333333333333,
              "#9c179e"
             ],
             [
              0.4444444444444444,
              "#bd3786"
             ],
             [
              0.5555555555555556,
              "#d8576b"
             ],
             [
              0.6666666666666666,
              "#ed7953"
             ],
             [
              0.7777777777777778,
              "#fb9f3a"
             ],
             [
              0.8888888888888888,
              "#fdca26"
             ],
             [
              1,
              "#f0f921"
             ]
            ],
            "type": "heatmap"
           }
          ],
          "histogram": [
           {
            "marker": {
             "pattern": {
              "fillmode": "overlay",
              "size": 10,
              "solidity": 0.2
             }
            },
            "type": "histogram"
           }
          ],
          "histogram2d": [
           {
            "colorbar": {
             "outlinewidth": 0,
             "ticks": ""
            },
            "colorscale": [
             [
              0,
              "#0d0887"
             ],
             [
              0.1111111111111111,
              "#46039f"
             ],
             [
              0.2222222222222222,
              "#7201a8"
             ],
             [
              0.3333333333333333,
              "#9c179e"
             ],
             [
              0.4444444444444444,
              "#bd3786"
             ],
             [
              0.5555555555555556,
              "#d8576b"
             ],
             [
              0.6666666666666666,
              "#ed7953"
             ],
             [
              0.7777777777777778,
              "#fb9f3a"
             ],
             [
              0.8888888888888888,
              "#fdca26"
             ],
             [
              1,
              "#f0f921"
             ]
            ],
            "type": "histogram2d"
           }
          ],
          "histogram2dcontour": [
           {
            "colorbar": {
             "outlinewidth": 0,
             "ticks": ""
            },
            "colorscale": [
             [
              0,
              "#0d0887"
             ],
             [
              0.1111111111111111,
              "#46039f"
             ],
             [
              0.2222222222222222,
              "#7201a8"
             ],
             [
              0.3333333333333333,
              "#9c179e"
             ],
             [
              0.4444444444444444,
              "#bd3786"
             ],
             [
              0.5555555555555556,
              "#d8576b"
             ],
             [
              0.6666666666666666,
              "#ed7953"
             ],
             [
              0.7777777777777778,
              "#fb9f3a"
             ],
             [
              0.8888888888888888,
              "#fdca26"
             ],
             [
              1,
              "#f0f921"
             ]
            ],
            "type": "histogram2dcontour"
           }
          ],
          "mesh3d": [
           {
            "colorbar": {
             "outlinewidth": 0,
             "ticks": ""
            },
            "type": "mesh3d"
           }
          ],
          "parcoords": [
           {
            "line": {
             "colorbar": {
              "outlinewidth": 0,
              "ticks": ""
             }
            },
            "type": "parcoords"
           }
          ],
          "pie": [
           {
            "automargin": true,
            "type": "pie"
           }
          ],
          "scatter": [
           {
            "fillpattern": {
             "fillmode": "overlay",
             "size": 10,
             "solidity": 0.2
            },
            "type": "scatter"
           }
          ],
          "scatter3d": [
           {
            "line": {
             "colorbar": {
              "outlinewidth": 0,
              "ticks": ""
             }
            },
            "marker": {
             "colorbar": {
              "outlinewidth": 0,
              "ticks": ""
             }
            },
            "type": "scatter3d"
           }
          ],
          "scattercarpet": [
           {
            "marker": {
             "colorbar": {
              "outlinewidth": 0,
              "ticks": ""
             }
            },
            "type": "scattercarpet"
           }
          ],
          "scattergeo": [
           {
            "marker": {
             "colorbar": {
              "outlinewidth": 0,
              "ticks": ""
             }
            },
            "type": "scattergeo"
           }
          ],
          "scattergl": [
           {
            "marker": {
             "colorbar": {
              "outlinewidth": 0,
              "ticks": ""
             }
            },
            "type": "scattergl"
           }
          ],
          "scattermap": [
           {
            "marker": {
             "colorbar": {
              "outlinewidth": 0,
              "ticks": ""
             }
            },
            "type": "scattermap"
           }
          ],
          "scattermapbox": [
           {
            "marker": {
             "colorbar": {
              "outlinewidth": 0,
              "ticks": ""
             }
            },
            "type": "scattermapbox"
           }
          ],
          "scatterpolar": [
           {
            "marker": {
             "colorbar": {
              "outlinewidth": 0,
              "ticks": ""
             }
            },
            "type": "scatterpolar"
           }
          ],
          "scatterpolargl": [
           {
            "marker": {
             "colorbar": {
              "outlinewidth": 0,
              "ticks": ""
             }
            },
            "type": "scatterpolargl"
           }
          ],
          "scatterternary": [
           {
            "marker": {
             "colorbar": {
              "outlinewidth": 0,
              "ticks": ""
             }
            },
            "type": "scatterternary"
           }
          ],
          "surface": [
           {
            "colorbar": {
             "outlinewidth": 0,
             "ticks": ""
            },
            "colorscale": [
             [
              0,
              "#0d0887"
             ],
             [
              0.1111111111111111,
              "#46039f"
             ],
             [
              0.2222222222222222,
              "#7201a8"
             ],
             [
              0.3333333333333333,
              "#9c179e"
             ],
             [
              0.4444444444444444,
              "#bd3786"
             ],
             [
              0.5555555555555556,
              "#d8576b"
             ],
             [
              0.6666666666666666,
              "#ed7953"
             ],
             [
              0.7777777777777778,
              "#fb9f3a"
             ],
             [
              0.8888888888888888,
              "#fdca26"
             ],
             [
              1,
              "#f0f921"
             ]
            ],
            "type": "surface"
           }
          ],
          "table": [
           {
            "cells": {
             "fill": {
              "color": "#EBF0F8"
             },
             "line": {
              "color": "white"
             }
            },
            "header": {
             "fill": {
              "color": "#C8D4E3"
             },
             "line": {
              "color": "white"
             }
            },
            "type": "table"
           }
          ]
         },
         "layout": {
          "annotationdefaults": {
           "arrowcolor": "#2a3f5f",
           "arrowhead": 0,
           "arrowwidth": 1
          },
          "autotypenumbers": "strict",
          "coloraxis": {
           "colorbar": {
            "outlinewidth": 0,
            "ticks": ""
           }
          },
          "colorscale": {
           "diverging": [
            [
             0,
             "#8e0152"
            ],
            [
             0.1,
             "#c51b7d"
            ],
            [
             0.2,
             "#de77ae"
            ],
            [
             0.3,
             "#f1b6da"
            ],
            [
             0.4,
             "#fde0ef"
            ],
            [
             0.5,
             "#f7f7f7"
            ],
            [
             0.6,
             "#e6f5d0"
            ],
            [
             0.7,
             "#b8e186"
            ],
            [
             0.8,
             "#7fbc41"
            ],
            [
             0.9,
             "#4d9221"
            ],
            [
             1,
             "#276419"
            ]
           ],
           "sequential": [
            [
             0,
             "#0d0887"
            ],
            [
             0.1111111111111111,
             "#46039f"
            ],
            [
             0.2222222222222222,
             "#7201a8"
            ],
            [
             0.3333333333333333,
             "#9c179e"
            ],
            [
             0.4444444444444444,
             "#bd3786"
            ],
            [
             0.5555555555555556,
             "#d8576b"
            ],
            [
             0.6666666666666666,
             "#ed7953"
            ],
            [
             0.7777777777777778,
             "#fb9f3a"
            ],
            [
             0.8888888888888888,
             "#fdca26"
            ],
            [
             1,
             "#f0f921"
            ]
           ],
           "sequentialminus": [
            [
             0,
             "#0d0887"
            ],
            [
             0.1111111111111111,
             "#46039f"
            ],
            [
             0.2222222222222222,
             "#7201a8"
            ],
            [
             0.3333333333333333,
             "#9c179e"
            ],
            [
             0.4444444444444444,
             "#bd3786"
            ],
            [
             0.5555555555555556,
             "#d8576b"
            ],
            [
             0.6666666666666666,
             "#ed7953"
            ],
            [
             0.7777777777777778,
             "#fb9f3a"
            ],
            [
             0.8888888888888888,
             "#fdca26"
            ],
            [
             1,
             "#f0f921"
            ]
           ]
          },
          "colorway": [
           "#636efa",
           "#EF553B",
           "#00cc96",
           "#ab63fa",
           "#FFA15A",
           "#19d3f3",
           "#FF6692",
           "#B6E880",
           "#FF97FF",
           "#FECB52"
          ],
          "font": {
           "color": "#2a3f5f"
          },
          "geo": {
           "bgcolor": "white",
           "lakecolor": "white",
           "landcolor": "#E5ECF6",
           "showlakes": true,
           "showland": true,
           "subunitcolor": "white"
          },
          "hoverlabel": {
           "align": "left"
          },
          "hovermode": "closest",
          "mapbox": {
           "style": "light"
          },
          "paper_bgcolor": "white",
          "plot_bgcolor": "#E5ECF6",
          "polar": {
           "angularaxis": {
            "gridcolor": "white",
            "linecolor": "white",
            "ticks": ""
           },
           "bgcolor": "#E5ECF6",
           "radialaxis": {
            "gridcolor": "white",
            "linecolor": "white",
            "ticks": ""
           }
          },
          "scene": {
           "xaxis": {
            "backgroundcolor": "#E5ECF6",
            "gridcolor": "white",
            "gridwidth": 2,
            "linecolor": "white",
            "showbackground": true,
            "ticks": "",
            "zerolinecolor": "white"
           },
           "yaxis": {
            "backgroundcolor": "#E5ECF6",
            "gridcolor": "white",
            "gridwidth": 2,
            "linecolor": "white",
            "showbackground": true,
            "ticks": "",
            "zerolinecolor": "white"
           },
           "zaxis": {
            "backgroundcolor": "#E5ECF6",
            "gridcolor": "white",
            "gridwidth": 2,
            "linecolor": "white",
            "showbackground": true,
            "ticks": "",
            "zerolinecolor": "white"
           }
          },
          "shapedefaults": {
           "line": {
            "color": "#2a3f5f"
           }
          },
          "ternary": {
           "aaxis": {
            "gridcolor": "white",
            "linecolor": "white",
            "ticks": ""
           },
           "baxis": {
            "gridcolor": "white",
            "linecolor": "white",
            "ticks": ""
           },
           "bgcolor": "#E5ECF6",
           "caxis": {
            "gridcolor": "white",
            "linecolor": "white",
            "ticks": ""
           }
          },
          "title": {
           "x": 0.05
          },
          "xaxis": {
           "automargin": true,
           "gridcolor": "white",
           "linecolor": "white",
           "ticks": "",
           "title": {
            "standoff": 15
           },
           "zerolinecolor": "white",
           "zerolinewidth": 2
          },
          "yaxis": {
           "automargin": true,
           "gridcolor": "white",
           "linecolor": "white",
           "ticks": "",
           "title": {
            "standoff": 15
           },
           "zerolinecolor": "white",
           "zerolinewidth": 2
          }
         }
        },
        "title": {
         "text": "Perbandingan Engagement Rate berdasarkan Jenis Konten dan Platform"
        },
        "xaxis": {
         "anchor": "y",
         "domain": [
          0,
          1
         ],
         "title": {
          "text": "Platform"
         }
        },
        "yaxis": {
         "anchor": "x",
         "domain": [
          0,
          1
         ],
         "title": {
          "text": "Engagement Rate (%)"
         }
        }
       }
      }
     },
     "metadata": {},
     "output_type": "display_data"
    }
   ],
   "source": [
    "# Mengonversi data untuk Plotly\n",
    "content_platform_engagement_reset = df.groupby([\"Platform\", \"Content_Type\"])[\"Engagement_Rate\"].mean().reset_index()\n",
    "\n",
    "# Membuat visualisasi\n",
    "fig = px.bar(content_platform_engagement_reset, \n",
    "             x=\"Platform\", \n",
    "             y=\"Engagement_Rate\", \n",
    "             color=\"Content_Type\", \n",
    "             barmode=\"group\", \n",
    "             title=\"Perbandingan Engagement Rate berdasarkan Jenis Konten dan Platform\",\n",
    "             labels={\"Engagement_Rate\": \"Engagement Rate (%)\", \"Platform\": \"Platform\"},\n",
    "             hover_name=\"Content_Type\")\n",
    "\n",
    "fig.show()"
   ]
  },
  {
   "cell_type": "markdown",
   "metadata": {},
   "source": [
    "Format **Shorts dan Reels** memiliki engagement tertinggi di **TikTok dan Instagram**, menunjukkan bahwa **video pendek lebih efektif dalam menarik perhatian dan interaksi pengguna.** **Live Stream di YouTube** juga memiliki engagement tinggi, sesuai dengan preferensi audiens untuk konten panjang dan interaktif. **Post dan Tweet lebih stabil di Twitter**, menandakan bahwa pengguna lebih aktif dalam membaca dan berdiskusi. **Video reguler tetap mendapat engagement baik di YouTube dan Instagram**, tetapi masih kalah dibandingkan video pendek. **Untuk memaksimalkan engagement, pilih format konten yang sesuai dengan kebiasaan audiens.**"
   ]
  },
  {
   "cell_type": "markdown",
   "metadata": {},
   "source": [
    "## Platform yang memiliki audiens dengan interaksi tertinggi."
   ]
  },
  {
   "cell_type": "code",
   "execution_count": 10,
   "metadata": {},
   "outputs": [
    {
     "data": {
      "application/vnd.plotly.v1+json": {
       "config": {
        "plotlyServerURL": "https://plot.ly"
       },
       "data": [
        {
         "alignmentgroup": "True",
         "hovertemplate": "Interaction_Type=Likes<br>Platform=%{x}<br>Rata-rata Jumlah Interaksi=%{y}<extra></extra>",
         "legendgroup": "Likes",
         "marker": {
          "color": "rgb(102,194,165)",
          "pattern": {
           "shape": ""
          }
         },
         "name": "Likes",
         "offsetgroup": "Likes",
         "orientation": "v",
         "showlegend": true,
         "textposition": "auto",
         "type": "bar",
         "x": [
          "Instagram",
          "TikTok",
          "Twitter",
          "YouTube"
         ],
         "xaxis": "x",
         "y": {
          "bdata": "tlgZvvFiD0HCIzzCdc8NQR0WPvPAAw5BuPajBFCID0E=",
          "dtype": "f8"
         },
         "yaxis": "y"
        },
        {
         "alignmentgroup": "True",
         "hovertemplate": "Interaction_Type=Shares<br>Platform=%{x}<br>Rata-rata Jumlah Interaksi=%{y}<extra></extra>",
         "legendgroup": "Shares",
         "marker": {
          "color": "rgb(252,141,98)",
          "pattern": {
           "shape": ""
          }
         },
         "name": "Shares",
         "offsetgroup": "Shares",
         "orientation": "v",
         "showlegend": true,
         "textposition": "auto",
         "type": "bar",
         "x": [
          "Instagram",
          "TikTok",
          "Twitter",
          "YouTube"
         ],
         "xaxis": "x",
         "y": {
          "bdata": "JWyAGN2Q6EA0QAM0iCHpQBPSzQZ4huhArCaq7CJz6EA=",
          "dtype": "f8"
         },
         "yaxis": "y"
        },
        {
         "alignmentgroup": "True",
         "hovertemplate": "Interaction_Type=Comments<br>Platform=%{x}<br>Rata-rata Jumlah Interaksi=%{y}<extra></extra>",
         "legendgroup": "Comments",
         "marker": {
          "color": "rgb(141,160,203)",
          "pattern": {
           "shape": ""
          }
         },
         "name": "Comments",
         "offsetgroup": "Comments",
         "orientation": "v",
         "showlegend": true,
         "textposition": "auto",
         "type": "bar",
         "x": [
          "Instagram",
          "TikTok",
          "Twitter",
          "YouTube"
         ],
         "xaxis": "x",
         "y": {
          "bdata": "cESBSYdf2ECZjMmYrDLYQNu2bds24tdApASu/Vi62EA=",
          "dtype": "f8"
         },
         "yaxis": "y"
        }
       ],
       "layout": {
        "barmode": "group",
        "legend": {
         "title": {
          "text": "Interaction_Type"
         },
         "tracegroupgap": 0
        },
        "template": {
         "data": {
          "bar": [
           {
            "error_x": {
             "color": "#2a3f5f"
            },
            "error_y": {
             "color": "#2a3f5f"
            },
            "marker": {
             "line": {
              "color": "#E5ECF6",
              "width": 0.5
             },
             "pattern": {
              "fillmode": "overlay",
              "size": 10,
              "solidity": 0.2
             }
            },
            "type": "bar"
           }
          ],
          "barpolar": [
           {
            "marker": {
             "line": {
              "color": "#E5ECF6",
              "width": 0.5
             },
             "pattern": {
              "fillmode": "overlay",
              "size": 10,
              "solidity": 0.2
             }
            },
            "type": "barpolar"
           }
          ],
          "carpet": [
           {
            "aaxis": {
             "endlinecolor": "#2a3f5f",
             "gridcolor": "white",
             "linecolor": "white",
             "minorgridcolor": "white",
             "startlinecolor": "#2a3f5f"
            },
            "baxis": {
             "endlinecolor": "#2a3f5f",
             "gridcolor": "white",
             "linecolor": "white",
             "minorgridcolor": "white",
             "startlinecolor": "#2a3f5f"
            },
            "type": "carpet"
           }
          ],
          "choropleth": [
           {
            "colorbar": {
             "outlinewidth": 0,
             "ticks": ""
            },
            "type": "choropleth"
           }
          ],
          "contour": [
           {
            "colorbar": {
             "outlinewidth": 0,
             "ticks": ""
            },
            "colorscale": [
             [
              0,
              "#0d0887"
             ],
             [
              0.1111111111111111,
              "#46039f"
             ],
             [
              0.2222222222222222,
              "#7201a8"
             ],
             [
              0.3333333333333333,
              "#9c179e"
             ],
             [
              0.4444444444444444,
              "#bd3786"
             ],
             [
              0.5555555555555556,
              "#d8576b"
             ],
             [
              0.6666666666666666,
              "#ed7953"
             ],
             [
              0.7777777777777778,
              "#fb9f3a"
             ],
             [
              0.8888888888888888,
              "#fdca26"
             ],
             [
              1,
              "#f0f921"
             ]
            ],
            "type": "contour"
           }
          ],
          "contourcarpet": [
           {
            "colorbar": {
             "outlinewidth": 0,
             "ticks": ""
            },
            "type": "contourcarpet"
           }
          ],
          "heatmap": [
           {
            "colorbar": {
             "outlinewidth": 0,
             "ticks": ""
            },
            "colorscale": [
             [
              0,
              "#0d0887"
             ],
             [
              0.1111111111111111,
              "#46039f"
             ],
             [
              0.2222222222222222,
              "#7201a8"
             ],
             [
              0.3333333333333333,
              "#9c179e"
             ],
             [
              0.4444444444444444,
              "#bd3786"
             ],
             [
              0.5555555555555556,
              "#d8576b"
             ],
             [
              0.6666666666666666,
              "#ed7953"
             ],
             [
              0.7777777777777778,
              "#fb9f3a"
             ],
             [
              0.8888888888888888,
              "#fdca26"
             ],
             [
              1,
              "#f0f921"
             ]
            ],
            "type": "heatmap"
           }
          ],
          "histogram": [
           {
            "marker": {
             "pattern": {
              "fillmode": "overlay",
              "size": 10,
              "solidity": 0.2
             }
            },
            "type": "histogram"
           }
          ],
          "histogram2d": [
           {
            "colorbar": {
             "outlinewidth": 0,
             "ticks": ""
            },
            "colorscale": [
             [
              0,
              "#0d0887"
             ],
             [
              0.1111111111111111,
              "#46039f"
             ],
             [
              0.2222222222222222,
              "#7201a8"
             ],
             [
              0.3333333333333333,
              "#9c179e"
             ],
             [
              0.4444444444444444,
              "#bd3786"
             ],
             [
              0.5555555555555556,
              "#d8576b"
             ],
             [
              0.6666666666666666,
              "#ed7953"
             ],
             [
              0.7777777777777778,
              "#fb9f3a"
             ],
             [
              0.8888888888888888,
              "#fdca26"
             ],
             [
              1,
              "#f0f921"
             ]
            ],
            "type": "histogram2d"
           }
          ],
          "histogram2dcontour": [
           {
            "colorbar": {
             "outlinewidth": 0,
             "ticks": ""
            },
            "colorscale": [
             [
              0,
              "#0d0887"
             ],
             [
              0.1111111111111111,
              "#46039f"
             ],
             [
              0.2222222222222222,
              "#7201a8"
             ],
             [
              0.3333333333333333,
              "#9c179e"
             ],
             [
              0.4444444444444444,
              "#bd3786"
             ],
             [
              0.5555555555555556,
              "#d8576b"
             ],
             [
              0.6666666666666666,
              "#ed7953"
             ],
             [
              0.7777777777777778,
              "#fb9f3a"
             ],
             [
              0.8888888888888888,
              "#fdca26"
             ],
             [
              1,
              "#f0f921"
             ]
            ],
            "type": "histogram2dcontour"
           }
          ],
          "mesh3d": [
           {
            "colorbar": {
             "outlinewidth": 0,
             "ticks": ""
            },
            "type": "mesh3d"
           }
          ],
          "parcoords": [
           {
            "line": {
             "colorbar": {
              "outlinewidth": 0,
              "ticks": ""
             }
            },
            "type": "parcoords"
           }
          ],
          "pie": [
           {
            "automargin": true,
            "type": "pie"
           }
          ],
          "scatter": [
           {
            "fillpattern": {
             "fillmode": "overlay",
             "size": 10,
             "solidity": 0.2
            },
            "type": "scatter"
           }
          ],
          "scatter3d": [
           {
            "line": {
             "colorbar": {
              "outlinewidth": 0,
              "ticks": ""
             }
            },
            "marker": {
             "colorbar": {
              "outlinewidth": 0,
              "ticks": ""
             }
            },
            "type": "scatter3d"
           }
          ],
          "scattercarpet": [
           {
            "marker": {
             "colorbar": {
              "outlinewidth": 0,
              "ticks": ""
             }
            },
            "type": "scattercarpet"
           }
          ],
          "scattergeo": [
           {
            "marker": {
             "colorbar": {
              "outlinewidth": 0,
              "ticks": ""
             }
            },
            "type": "scattergeo"
           }
          ],
          "scattergl": [
           {
            "marker": {
             "colorbar": {
              "outlinewidth": 0,
              "ticks": ""
             }
            },
            "type": "scattergl"
           }
          ],
          "scattermap": [
           {
            "marker": {
             "colorbar": {
              "outlinewidth": 0,
              "ticks": ""
             }
            },
            "type": "scattermap"
           }
          ],
          "scattermapbox": [
           {
            "marker": {
             "colorbar": {
              "outlinewidth": 0,
              "ticks": ""
             }
            },
            "type": "scattermapbox"
           }
          ],
          "scatterpolar": [
           {
            "marker": {
             "colorbar": {
              "outlinewidth": 0,
              "ticks": ""
             }
            },
            "type": "scatterpolar"
           }
          ],
          "scatterpolargl": [
           {
            "marker": {
             "colorbar": {
              "outlinewidth": 0,
              "ticks": ""
             }
            },
            "type": "scatterpolargl"
           }
          ],
          "scatterternary": [
           {
            "marker": {
             "colorbar": {
              "outlinewidth": 0,
              "ticks": ""
             }
            },
            "type": "scatterternary"
           }
          ],
          "surface": [
           {
            "colorbar": {
             "outlinewidth": 0,
             "ticks": ""
            },
            "colorscale": [
             [
              0,
              "#0d0887"
             ],
             [
              0.1111111111111111,
              "#46039f"
             ],
             [
              0.2222222222222222,
              "#7201a8"
             ],
             [
              0.3333333333333333,
              "#9c179e"
             ],
             [
              0.4444444444444444,
              "#bd3786"
             ],
             [
              0.5555555555555556,
              "#d8576b"
             ],
             [
              0.6666666666666666,
              "#ed7953"
             ],
             [
              0.7777777777777778,
              "#fb9f3a"
             ],
             [
              0.8888888888888888,
              "#fdca26"
             ],
             [
              1,
              "#f0f921"
             ]
            ],
            "type": "surface"
           }
          ],
          "table": [
           {
            "cells": {
             "fill": {
              "color": "#EBF0F8"
             },
             "line": {
              "color": "white"
             }
            },
            "header": {
             "fill": {
              "color": "#C8D4E3"
             },
             "line": {
              "color": "white"
             }
            },
            "type": "table"
           }
          ]
         },
         "layout": {
          "annotationdefaults": {
           "arrowcolor": "#2a3f5f",
           "arrowhead": 0,
           "arrowwidth": 1
          },
          "autotypenumbers": "strict",
          "coloraxis": {
           "colorbar": {
            "outlinewidth": 0,
            "ticks": ""
           }
          },
          "colorscale": {
           "diverging": [
            [
             0,
             "#8e0152"
            ],
            [
             0.1,
             "#c51b7d"
            ],
            [
             0.2,
             "#de77ae"
            ],
            [
             0.3,
             "#f1b6da"
            ],
            [
             0.4,
             "#fde0ef"
            ],
            [
             0.5,
             "#f7f7f7"
            ],
            [
             0.6,
             "#e6f5d0"
            ],
            [
             0.7,
             "#b8e186"
            ],
            [
             0.8,
             "#7fbc41"
            ],
            [
             0.9,
             "#4d9221"
            ],
            [
             1,
             "#276419"
            ]
           ],
           "sequential": [
            [
             0,
             "#0d0887"
            ],
            [
             0.1111111111111111,
             "#46039f"
            ],
            [
             0.2222222222222222,
             "#7201a8"
            ],
            [
             0.3333333333333333,
             "#9c179e"
            ],
            [
             0.4444444444444444,
             "#bd3786"
            ],
            [
             0.5555555555555556,
             "#d8576b"
            ],
            [
             0.6666666666666666,
             "#ed7953"
            ],
            [
             0.7777777777777778,
             "#fb9f3a"
            ],
            [
             0.8888888888888888,
             "#fdca26"
            ],
            [
             1,
             "#f0f921"
            ]
           ],
           "sequentialminus": [
            [
             0,
             "#0d0887"
            ],
            [
             0.1111111111111111,
             "#46039f"
            ],
            [
             0.2222222222222222,
             "#7201a8"
            ],
            [
             0.3333333333333333,
             "#9c179e"
            ],
            [
             0.4444444444444444,
             "#bd3786"
            ],
            [
             0.5555555555555556,
             "#d8576b"
            ],
            [
             0.6666666666666666,
             "#ed7953"
            ],
            [
             0.7777777777777778,
             "#fb9f3a"
            ],
            [
             0.8888888888888888,
             "#fdca26"
            ],
            [
             1,
             "#f0f921"
            ]
           ]
          },
          "colorway": [
           "#636efa",
           "#EF553B",
           "#00cc96",
           "#ab63fa",
           "#FFA15A",
           "#19d3f3",
           "#FF6692",
           "#B6E880",
           "#FF97FF",
           "#FECB52"
          ],
          "font": {
           "color": "#2a3f5f"
          },
          "geo": {
           "bgcolor": "white",
           "lakecolor": "white",
           "landcolor": "#E5ECF6",
           "showlakes": true,
           "showland": true,
           "subunitcolor": "white"
          },
          "hoverlabel": {
           "align": "left"
          },
          "hovermode": "closest",
          "mapbox": {
           "style": "light"
          },
          "paper_bgcolor": "white",
          "plot_bgcolor": "#E5ECF6",
          "polar": {
           "angularaxis": {
            "gridcolor": "white",
            "linecolor": "white",
            "ticks": ""
           },
           "bgcolor": "#E5ECF6",
           "radialaxis": {
            "gridcolor": "white",
            "linecolor": "white",
            "ticks": ""
           }
          },
          "scene": {
           "xaxis": {
            "backgroundcolor": "#E5ECF6",
            "gridcolor": "white",
            "gridwidth": 2,
            "linecolor": "white",
            "showbackground": true,
            "ticks": "",
            "zerolinecolor": "white"
           },
           "yaxis": {
            "backgroundcolor": "#E5ECF6",
            "gridcolor": "white",
            "gridwidth": 2,
            "linecolor": "white",
            "showbackground": true,
            "ticks": "",
            "zerolinecolor": "white"
           },
           "zaxis": {
            "backgroundcolor": "#E5ECF6",
            "gridcolor": "white",
            "gridwidth": 2,
            "linecolor": "white",
            "showbackground": true,
            "ticks": "",
            "zerolinecolor": "white"
           }
          },
          "shapedefaults": {
           "line": {
            "color": "#2a3f5f"
           }
          },
          "ternary": {
           "aaxis": {
            "gridcolor": "white",
            "linecolor": "white",
            "ticks": ""
           },
           "baxis": {
            "gridcolor": "white",
            "linecolor": "white",
            "ticks": ""
           },
           "bgcolor": "#E5ECF6",
           "caxis": {
            "gridcolor": "white",
            "linecolor": "white",
            "ticks": ""
           }
          },
          "title": {
           "x": 0.05
          },
          "xaxis": {
           "automargin": true,
           "gridcolor": "white",
           "linecolor": "white",
           "ticks": "",
           "title": {
            "standoff": 15
           },
           "zerolinecolor": "white",
           "zerolinewidth": 2
          },
          "yaxis": {
           "automargin": true,
           "gridcolor": "white",
           "linecolor": "white",
           "ticks": "",
           "title": {
            "standoff": 15
           },
           "zerolinecolor": "white",
           "zerolinewidth": 2
          }
         }
        },
        "title": {
         "text": "Perbandingan Jenis Interaksi (Like, Share, Comment) di Setiap Platform"
        },
        "xaxis": {
         "anchor": "y",
         "domain": [
          0,
          1
         ],
         "title": {
          "text": "Platform"
         }
        },
        "yaxis": {
         "anchor": "x",
         "domain": [
          0,
          1
         ],
         "title": {
          "text": "Rata-rata Jumlah Interaksi"
         }
        }
       }
      }
     },
     "metadata": {},
     "output_type": "display_data"
    }
   ],
   "source": [
    "# Menghitung rata-rata jenis interaksi per platform\n",
    "engagement_types = df.groupby(\"Platform\")[[\"Likes\", \"Shares\", \"Comments\"]].mean().reset_index()\n",
    "\n",
    "# Mengubah data ke dalam format long untuk plotly\n",
    "engagement_melted = engagement_types.melt(id_vars=\"Platform\", var_name=\"Interaction_Type\", value_name=\"Average_Count\")\n",
    "\n",
    "# Membuat visualisasi bar chart\n",
    "fig = px.bar(\n",
    "    engagement_melted,\n",
    "    x=\"Platform\",\n",
    "    y=\"Average_Count\",\n",
    "    color=\"Interaction_Type\",\n",
    "    title=\"Perbandingan Jenis Interaksi (Like, Share, Comment) di Setiap Platform\",\n",
    "    labels={\"Average_Count\": \"Rata-rata Jumlah Interaksi\"},\n",
    "    barmode=\"group\",\n",
    "    color_discrete_sequence=px.colors.qualitative.Set2\n",
    ")\n",
    "\n",
    "fig.update_layout(xaxis_title=\"Platform\", yaxis_title=\"Rata-rata Jumlah Interaksi\")\n",
    "\n",
    "fig.show()"
   ]
  },
  {
   "cell_type": "markdown",
   "metadata": {},
   "source": [
    "Likes adalah bentuk interaksi yang paling dominan di semua platform, dengan **Instagram dan TikTok memiliki jumlah like tertinggi**, menunjukkan bahwa pengguna lebih cenderung memberikan reaksi cepat terhadap konten di kedua platform ini. **Shares lebih sering terjadi di Twitter dan TikTok**, menandakan bahwa pengguna lebih aktif dalam membagikan konten dibandingkan hanya menyukai. Sementara itu, **YouTube memiliki jumlah komentar lebih tinggi dibandingkan platform lain**, karena pengguna cenderung lebih banyak berdiskusi di kolom komentar. Untuk memaksimalkan interaksi, fokuslah pada jenis engagement yang paling dominan di setiap platform. Prioritaskan **likes untuk meningkatkan daya tarik konten**, dorong **shares untuk memperluas jangkauan audiens**, dan manfaatkan **komentar untuk membangun komunitas serta meningkatkan keterlibatan pengguna**. Sesuaikan strategi dengan pola interaksi pengguna di masing-masing platform."
   ]
  },
  {
   "cell_type": "markdown",
   "metadata": {},
   "source": [
    "## Besaran variasi engagement pada setiap platform"
   ]
  },
  {
   "cell_type": "code",
   "execution_count": 11,
   "metadata": {},
   "outputs": [
    {
     "name": "stdout",
     "output_type": "stream",
     "text": [
      "           Standard Deviation        IQR\n",
      "Platform                                \n",
      "Instagram          384.386604  21.681008\n",
      "TikTok             806.774023  17.520127\n",
      "Twitter            199.391809  19.969400\n",
      "YouTube            319.694169  18.564410\n"
     ]
    }
   ],
   "source": [
    "# Menghitung Standard Deviation dan Interquartile Range (IQR) untuk Engagement Rate per Platform\n",
    "engagement_rate_variance = df.groupby(\"Platform\")[\"Engagement_Rate\"].agg([\"std\"]).rename(columns={\"std\": \"Standard Deviation\"})\n",
    "engagement_rate_variance[\"IQR\"] = df.groupby(\"Platform\")[\"Engagement_Rate\"].quantile(0.75) - df.groupby(\"Platform\")[\"Engagement_Rate\"].quantile(0.25)\n",
    "\n",
    "# Menampilkan hasil\n",
    "print(engagement_rate_variance)"
   ]
  },
  {
   "cell_type": "markdown",
   "metadata": {},
   "source": [
    "- TikTok memiliki Standard Deviation tertinggi (806.77), menunjukkan engagement yang paling bervariasi. Artinya ada banyak konten yang sangat viral, tetapi juga banyak yang gagal mendapatkan engagement.\n",
    "\n",
    "- Instagram memiliki Standard Deviation yang besar (384.39), tetapi IQR lebih tinggi (21.68). Artinya Engagement Rate di Instagram lebih stabil dibanding TikTok, tetapi masih cukup bervariasi.\n",
    "\n",
    "- YouTube memiliki Standard Deviation lebih rendah dari TikTok & Instagram, tetapi lebih tinggi dari Twitter. Engagement di YouTube lebih stabil dibanding TikTok, tetapi tidak setinggi Instagram.\n",
    "\n",
    "- Twitter memiliki variasi engagement paling kecil (199.39), menunjukkan bahwa engagement di Twitter lebih konsisten. Namun, IQR Twitter (19.97) cukup besar, artinya masih ada perbedaan engagement antar konten, tetapi tidak seekstrem TikTok & Instagram."
   ]
  },
  {
   "cell_type": "markdown",
   "metadata": {},
   "source": [
    "Berdasarkan hasil analisis, TikTok memiliki engagement yang paling bervariasi, menunjukkan potensi viralitas tinggi tetapi tidak stabil. Instagram lebih stabil dibandingkan TikTok, dengan engagement rate tinggi tetapi tetap fluktuatif. Twitter memiliki engagement yang paling konsisten, meskipun lebih rendah dibanding platform lain. YouTube lebih stabil dibandingkan TikTok, namun masih memiliki variasi engagement yang cukup signifikan."
   ]
  },
  {
   "cell_type": "markdown",
   "metadata": {},
   "source": [
    "## Pengecekan apakah setiap engagement antar platform memiliki perbedaan signifikan."
   ]
  },
  {
   "cell_type": "code",
   "execution_count": 12,
   "metadata": {},
   "outputs": [
    {
     "data": {
      "text/plain": [
       "F_onewayResult(statistic=0.48939181578136365, pvalue=0.6896506136976863)"
      ]
     },
     "execution_count": 12,
     "metadata": {},
     "output_type": "execute_result"
    }
   ],
   "source": [
    "# **Tahap 1: Uji ANOVA untuk Mengetahui Perbedaan Engagement Antar Platform**\n",
    "\n",
    "# Membagi data engagement berdasarkan platform\n",
    "engagement_instagram = df[df[\"Platform\"] == \"Instagram\"][\"Engagement_Rate\"]\n",
    "engagement_tiktok = df[df[\"Platform\"] == \"TikTok\"][\"Engagement_Rate\"]\n",
    "engagement_twitter = df[df[\"Platform\"] == \"Twitter\"][\"Engagement_Rate\"]\n",
    "engagement_youtube = df[df[\"Platform\"] == \"YouTube\"][\"Engagement_Rate\"]\n",
    "\n",
    "# Melakukan uji ANOVA untuk mengetahui apakah ada perbedaan signifikan antara platform\n",
    "anova_result = f_oneway(engagement_instagram, engagement_tiktok, engagement_twitter, engagement_youtube)\n",
    "\n",
    "anova_result"
   ]
  },
  {
   "cell_type": "code",
   "execution_count": 13,
   "metadata": {},
   "outputs": [
    {
     "data": {
      "text/plain": [
       "{'F-statistic': 0.48939181578136365,\n",
       " 'p-value': 0.6896506136976863,\n",
       " 'Kesimpulan': 'Tidak ada perbedaan signifikan dalam engagement antar platform'}"
      ]
     },
     "execution_count": 13,
     "metadata": {},
     "output_type": "execute_result"
    }
   ],
   "source": [
    "# **Tahap 2: Menampilkan Kesimpulan Uji ANOVA dalam Format yang Lebih Jelas**\n",
    "\n",
    "# Menyimpan hasil uji ANOVA dalam dictionary\n",
    "anova_summary = {\n",
    "    \"F-statistic\": anova_result.statistic,\n",
    "    \"p-value\": anova_result.pvalue,\n",
    "    \"Kesimpulan\": \"Tidak ada perbedaan signifikan dalam engagement antar platform\" if anova_result.pvalue > 0.05 else \"Ada perbedaan signifikan dalam engagement antar platform\"\n",
    "}\n",
    "\n",
    "anova_summary"
   ]
  },
  {
   "cell_type": "markdown",
   "metadata": {},
   "source": [
    "- F-statistic = 0.489 → Nilai F yang rendah menunjukkan bahwa variasi engagement antara platform tidak cukup besar dibandingkan dengan variasi dalam platform itu sendiri.\n",
    "\n",
    "- p-value = 0.689 → Karena p-value lebih besar dari 0.05, maka tidak ada perbedaan signifikan dalam engagement rate antar platform.\n",
    "\n",
    "Secara statistik, engagement rate di berbagai platform tidak berbeda secara signifikan, Meskipun rata-rata engagement bervariasi, hasil statistik menunjukkan bahwa perbedaan tersebut tidak cukup besar untuk dianggap signifikan.Artinya, engagement di setiap platform lebih dipengaruhi oleh faktor lain, seperti jenis konten, penggunaan hashtag, atau strategi posting, dibandingkan dengan perbedaan platform itu sendiri. Fokuslah pada faktor-fakor tersebut, karena faktor-faktor tersebut lebih berpengaruh terhadap engagement dibandingkan sekadar memilih platform tertentu."
   ]
  },
  {
   "cell_type": "markdown",
   "metadata": {},
   "source": [
    "# **Kesimpulan**"
   ]
  },
  {
   "cell_type": "markdown",
   "metadata": {},
   "source": [
    "Untuk meningkatkan engagement sebesar **20% dalam 3 bulan**, kreator konten perlu menerapkan strategi yang spesifik sesuai dengan pola interaksi pengguna di setiap platform. **Gunakan format video pendek seperti Shorts dan Reels di TikTok dan Instagram**, karena memiliki engagement tertinggi. **Manfaatkan Live Streaming di YouTube** untuk meningkatkan interaksi real-time dengan audiens. **Gunakan Tweet dan Post di Twitter** untuk memaksimalkan engagement berbasis diskusi dan berbagi informasi.\n",
    "\n",
    "Selain itu, **optimalkan hashtag populer seperti #Viral, #Comedy, dan #Gaming**, karena terbukti memiliki engagement tertinggi di berbagai platform. Untuk memperluas jangkauan audiens yang lebih spesifik, gunakan **#Education dan #Tech di Twitter & YouTube**, serta **#Fashion dan #Dance di TikTok & Instagram**.\n",
    "\n",
    "Dari sisi interaksi, **dorong Likes sebagai bentuk engagement utama di semua platform**, buat konten yang memancing **Shares di TikTok dan Twitter**, dan ajak audiens untuk aktif berkomentar, terutama di YouTube, yang memiliki engagement tertinggi melalui diskusi di kolom komentar.Evaluasi engagement secara berkala perlu dilakukan untuk menyesuaikan strategi berdasarkan respons audiens."
   ]
  }
 ],
 "metadata": {
  "kernelspec": {
   "display_name": "base",
   "language": "python",
   "name": "python3"
  },
  "language_info": {
   "codemirror_mode": {
    "name": "ipython",
    "version": 3
   },
   "file_extension": ".py",
   "mimetype": "text/x-python",
   "name": "python",
   "nbconvert_exporter": "python",
   "pygments_lexer": "ipython3",
   "version": "3.9.7"
  }
 },
 "nbformat": 4,
 "nbformat_minor": 2
}
